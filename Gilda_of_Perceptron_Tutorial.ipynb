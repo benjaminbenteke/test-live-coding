{
  "cells": [
    {
      "cell_type": "markdown",
      "metadata": {
        "id": "view-in-github",
        "colab_type": "text"
      },
      "source": [
        "<a href=\"https://colab.research.google.com/github/GildaRech/test-live-coding/blob/master/Gilda_of_Perceptron_Tutorial.ipynb\" target=\"_parent\"><img src=\"https://colab.research.google.com/assets/colab-badge.svg\" alt=\"Open In Colab\"/></a>"
      ]
    },
    {
      "cell_type": "markdown",
      "source": [
        "## Please make a copy of the notebook before you start updating it."
      ],
      "metadata": {
        "id": "h0Cu9Drja8Ws"
      }
    },
    {
      "cell_type": "markdown",
      "source": [
        "# Import libraries and load the data from sklearn dataset"
      ],
      "metadata": {
        "id": "aOJufAT477Vz"
      }
    },
    {
      "cell_type": "code",
      "execution_count": 30,
      "metadata": {
        "id": "VhoY8C6aa5HT"
      },
      "outputs": [],
      "source": [
        " ### Import packages\n",
        "\n",
        "import numpy as np\n",
        "import matplotlib.pyplot as plt\n",
        "from sklearn.datasets import load_iris\n",
        "import pandas as pd"
      ]
    },
    {
      "cell_type": "code",
      "execution_count": 2,
      "metadata": {
        "id": "d5HcWRp0a5HX"
      },
      "outputs": [],
      "source": [
        "### Import datasets from sklearn.datasets\n",
        "data = load_iris()"
      ]
    },
    {
      "cell_type": "code",
      "execution_count": 3,
      "metadata": {
        "id": "radjgNPta5HX"
      },
      "outputs": [],
      "source": [
        "#### Target \n",
        "\n",
        "target = data.target"
      ]
    },
    {
      "cell_type": "code",
      "execution_count": 4,
      "metadata": {
        "id": "jNETJucqa5HY",
        "colab": {
          "base_uri": "https://localhost:8080/"
        },
        "outputId": "f110f8b1-f1e1-4735-9b98-b9e5f2f4bedd"
      },
      "outputs": [
        {
          "output_type": "execute_result",
          "data": {
            "text/plain": [
              "{'DESCR': '.. _iris_dataset:\\n\\nIris plants dataset\\n--------------------\\n\\n**Data Set Characteristics:**\\n\\n    :Number of Instances: 150 (50 in each of three classes)\\n    :Number of Attributes: 4 numeric, predictive attributes and the class\\n    :Attribute Information:\\n        - sepal length in cm\\n        - sepal width in cm\\n        - petal length in cm\\n        - petal width in cm\\n        - class:\\n                - Iris-Setosa\\n                - Iris-Versicolour\\n                - Iris-Virginica\\n                \\n    :Summary Statistics:\\n\\n    ============== ==== ==== ======= ===== ====================\\n                    Min  Max   Mean    SD   Class Correlation\\n    ============== ==== ==== ======= ===== ====================\\n    sepal length:   4.3  7.9   5.84   0.83    0.7826\\n    sepal width:    2.0  4.4   3.05   0.43   -0.4194\\n    petal length:   1.0  6.9   3.76   1.76    0.9490  (high!)\\n    petal width:    0.1  2.5   1.20   0.76    0.9565  (high!)\\n    ============== ==== ==== ======= ===== ====================\\n\\n    :Missing Attribute Values: None\\n    :Class Distribution: 33.3% for each of 3 classes.\\n    :Creator: R.A. Fisher\\n    :Donor: Michael Marshall (MARSHALL%PLU@io.arc.nasa.gov)\\n    :Date: July, 1988\\n\\nThe famous Iris database, first used by Sir R.A. Fisher. The dataset is taken\\nfrom Fisher\\'s paper. Note that it\\'s the same as in R, but not as in the UCI\\nMachine Learning Repository, which has two wrong data points.\\n\\nThis is perhaps the best known database to be found in the\\npattern recognition literature.  Fisher\\'s paper is a classic in the field and\\nis referenced frequently to this day.  (See Duda & Hart, for example.)  The\\ndata set contains 3 classes of 50 instances each, where each class refers to a\\ntype of iris plant.  One class is linearly separable from the other 2; the\\nlatter are NOT linearly separable from each other.\\n\\n.. topic:: References\\n\\n   - Fisher, R.A. \"The use of multiple measurements in taxonomic problems\"\\n     Annual Eugenics, 7, Part II, 179-188 (1936); also in \"Contributions to\\n     Mathematical Statistics\" (John Wiley, NY, 1950).\\n   - Duda, R.O., & Hart, P.E. (1973) Pattern Classification and Scene Analysis.\\n     (Q327.D83) John Wiley & Sons.  ISBN 0-471-22361-1.  See page 218.\\n   - Dasarathy, B.V. (1980) \"Nosing Around the Neighborhood: A New System\\n     Structure and Classification Rule for Recognition in Partially Exposed\\n     Environments\".  IEEE Transactions on Pattern Analysis and Machine\\n     Intelligence, Vol. PAMI-2, No. 1, 67-71.\\n   - Gates, G.W. (1972) \"The Reduced Nearest Neighbor Rule\".  IEEE Transactions\\n     on Information Theory, May 1972, 431-433.\\n   - See also: 1988 MLC Proceedings, 54-64.  Cheeseman et al\"s AUTOCLASS II\\n     conceptual clustering system finds 3 classes in the data.\\n   - Many, many more ...',\n",
              " 'data': array([[5.1, 3.5, 1.4, 0.2],\n",
              "        [4.9, 3. , 1.4, 0.2],\n",
              "        [4.7, 3.2, 1.3, 0.2],\n",
              "        [4.6, 3.1, 1.5, 0.2],\n",
              "        [5. , 3.6, 1.4, 0.2],\n",
              "        [5.4, 3.9, 1.7, 0.4],\n",
              "        [4.6, 3.4, 1.4, 0.3],\n",
              "        [5. , 3.4, 1.5, 0.2],\n",
              "        [4.4, 2.9, 1.4, 0.2],\n",
              "        [4.9, 3.1, 1.5, 0.1],\n",
              "        [5.4, 3.7, 1.5, 0.2],\n",
              "        [4.8, 3.4, 1.6, 0.2],\n",
              "        [4.8, 3. , 1.4, 0.1],\n",
              "        [4.3, 3. , 1.1, 0.1],\n",
              "        [5.8, 4. , 1.2, 0.2],\n",
              "        [5.7, 4.4, 1.5, 0.4],\n",
              "        [5.4, 3.9, 1.3, 0.4],\n",
              "        [5.1, 3.5, 1.4, 0.3],\n",
              "        [5.7, 3.8, 1.7, 0.3],\n",
              "        [5.1, 3.8, 1.5, 0.3],\n",
              "        [5.4, 3.4, 1.7, 0.2],\n",
              "        [5.1, 3.7, 1.5, 0.4],\n",
              "        [4.6, 3.6, 1. , 0.2],\n",
              "        [5.1, 3.3, 1.7, 0.5],\n",
              "        [4.8, 3.4, 1.9, 0.2],\n",
              "        [5. , 3. , 1.6, 0.2],\n",
              "        [5. , 3.4, 1.6, 0.4],\n",
              "        [5.2, 3.5, 1.5, 0.2],\n",
              "        [5.2, 3.4, 1.4, 0.2],\n",
              "        [4.7, 3.2, 1.6, 0.2],\n",
              "        [4.8, 3.1, 1.6, 0.2],\n",
              "        [5.4, 3.4, 1.5, 0.4],\n",
              "        [5.2, 4.1, 1.5, 0.1],\n",
              "        [5.5, 4.2, 1.4, 0.2],\n",
              "        [4.9, 3.1, 1.5, 0.2],\n",
              "        [5. , 3.2, 1.2, 0.2],\n",
              "        [5.5, 3.5, 1.3, 0.2],\n",
              "        [4.9, 3.6, 1.4, 0.1],\n",
              "        [4.4, 3. , 1.3, 0.2],\n",
              "        [5.1, 3.4, 1.5, 0.2],\n",
              "        [5. , 3.5, 1.3, 0.3],\n",
              "        [4.5, 2.3, 1.3, 0.3],\n",
              "        [4.4, 3.2, 1.3, 0.2],\n",
              "        [5. , 3.5, 1.6, 0.6],\n",
              "        [5.1, 3.8, 1.9, 0.4],\n",
              "        [4.8, 3. , 1.4, 0.3],\n",
              "        [5.1, 3.8, 1.6, 0.2],\n",
              "        [4.6, 3.2, 1.4, 0.2],\n",
              "        [5.3, 3.7, 1.5, 0.2],\n",
              "        [5. , 3.3, 1.4, 0.2],\n",
              "        [7. , 3.2, 4.7, 1.4],\n",
              "        [6.4, 3.2, 4.5, 1.5],\n",
              "        [6.9, 3.1, 4.9, 1.5],\n",
              "        [5.5, 2.3, 4. , 1.3],\n",
              "        [6.5, 2.8, 4.6, 1.5],\n",
              "        [5.7, 2.8, 4.5, 1.3],\n",
              "        [6.3, 3.3, 4.7, 1.6],\n",
              "        [4.9, 2.4, 3.3, 1. ],\n",
              "        [6.6, 2.9, 4.6, 1.3],\n",
              "        [5.2, 2.7, 3.9, 1.4],\n",
              "        [5. , 2. , 3.5, 1. ],\n",
              "        [5.9, 3. , 4.2, 1.5],\n",
              "        [6. , 2.2, 4. , 1. ],\n",
              "        [6.1, 2.9, 4.7, 1.4],\n",
              "        [5.6, 2.9, 3.6, 1.3],\n",
              "        [6.7, 3.1, 4.4, 1.4],\n",
              "        [5.6, 3. , 4.5, 1.5],\n",
              "        [5.8, 2.7, 4.1, 1. ],\n",
              "        [6.2, 2.2, 4.5, 1.5],\n",
              "        [5.6, 2.5, 3.9, 1.1],\n",
              "        [5.9, 3.2, 4.8, 1.8],\n",
              "        [6.1, 2.8, 4. , 1.3],\n",
              "        [6.3, 2.5, 4.9, 1.5],\n",
              "        [6.1, 2.8, 4.7, 1.2],\n",
              "        [6.4, 2.9, 4.3, 1.3],\n",
              "        [6.6, 3. , 4.4, 1.4],\n",
              "        [6.8, 2.8, 4.8, 1.4],\n",
              "        [6.7, 3. , 5. , 1.7],\n",
              "        [6. , 2.9, 4.5, 1.5],\n",
              "        [5.7, 2.6, 3.5, 1. ],\n",
              "        [5.5, 2.4, 3.8, 1.1],\n",
              "        [5.5, 2.4, 3.7, 1. ],\n",
              "        [5.8, 2.7, 3.9, 1.2],\n",
              "        [6. , 2.7, 5.1, 1.6],\n",
              "        [5.4, 3. , 4.5, 1.5],\n",
              "        [6. , 3.4, 4.5, 1.6],\n",
              "        [6.7, 3.1, 4.7, 1.5],\n",
              "        [6.3, 2.3, 4.4, 1.3],\n",
              "        [5.6, 3. , 4.1, 1.3],\n",
              "        [5.5, 2.5, 4. , 1.3],\n",
              "        [5.5, 2.6, 4.4, 1.2],\n",
              "        [6.1, 3. , 4.6, 1.4],\n",
              "        [5.8, 2.6, 4. , 1.2],\n",
              "        [5. , 2.3, 3.3, 1. ],\n",
              "        [5.6, 2.7, 4.2, 1.3],\n",
              "        [5.7, 3. , 4.2, 1.2],\n",
              "        [5.7, 2.9, 4.2, 1.3],\n",
              "        [6.2, 2.9, 4.3, 1.3],\n",
              "        [5.1, 2.5, 3. , 1.1],\n",
              "        [5.7, 2.8, 4.1, 1.3],\n",
              "        [6.3, 3.3, 6. , 2.5],\n",
              "        [5.8, 2.7, 5.1, 1.9],\n",
              "        [7.1, 3. , 5.9, 2.1],\n",
              "        [6.3, 2.9, 5.6, 1.8],\n",
              "        [6.5, 3. , 5.8, 2.2],\n",
              "        [7.6, 3. , 6.6, 2.1],\n",
              "        [4.9, 2.5, 4.5, 1.7],\n",
              "        [7.3, 2.9, 6.3, 1.8],\n",
              "        [6.7, 2.5, 5.8, 1.8],\n",
              "        [7.2, 3.6, 6.1, 2.5],\n",
              "        [6.5, 3.2, 5.1, 2. ],\n",
              "        [6.4, 2.7, 5.3, 1.9],\n",
              "        [6.8, 3. , 5.5, 2.1],\n",
              "        [5.7, 2.5, 5. , 2. ],\n",
              "        [5.8, 2.8, 5.1, 2.4],\n",
              "        [6.4, 3.2, 5.3, 2.3],\n",
              "        [6.5, 3. , 5.5, 1.8],\n",
              "        [7.7, 3.8, 6.7, 2.2],\n",
              "        [7.7, 2.6, 6.9, 2.3],\n",
              "        [6. , 2.2, 5. , 1.5],\n",
              "        [6.9, 3.2, 5.7, 2.3],\n",
              "        [5.6, 2.8, 4.9, 2. ],\n",
              "        [7.7, 2.8, 6.7, 2. ],\n",
              "        [6.3, 2.7, 4.9, 1.8],\n",
              "        [6.7, 3.3, 5.7, 2.1],\n",
              "        [7.2, 3.2, 6. , 1.8],\n",
              "        [6.2, 2.8, 4.8, 1.8],\n",
              "        [6.1, 3. , 4.9, 1.8],\n",
              "        [6.4, 2.8, 5.6, 2.1],\n",
              "        [7.2, 3. , 5.8, 1.6],\n",
              "        [7.4, 2.8, 6.1, 1.9],\n",
              "        [7.9, 3.8, 6.4, 2. ],\n",
              "        [6.4, 2.8, 5.6, 2.2],\n",
              "        [6.3, 2.8, 5.1, 1.5],\n",
              "        [6.1, 2.6, 5.6, 1.4],\n",
              "        [7.7, 3. , 6.1, 2.3],\n",
              "        [6.3, 3.4, 5.6, 2.4],\n",
              "        [6.4, 3.1, 5.5, 1.8],\n",
              "        [6. , 3. , 4.8, 1.8],\n",
              "        [6.9, 3.1, 5.4, 2.1],\n",
              "        [6.7, 3.1, 5.6, 2.4],\n",
              "        [6.9, 3.1, 5.1, 2.3],\n",
              "        [5.8, 2.7, 5.1, 1.9],\n",
              "        [6.8, 3.2, 5.9, 2.3],\n",
              "        [6.7, 3.3, 5.7, 2.5],\n",
              "        [6.7, 3. , 5.2, 2.3],\n",
              "        [6.3, 2.5, 5. , 1.9],\n",
              "        [6.5, 3. , 5.2, 2. ],\n",
              "        [6.2, 3.4, 5.4, 2.3],\n",
              "        [5.9, 3. , 5.1, 1.8]]),\n",
              " 'data_module': 'sklearn.datasets.data',\n",
              " 'feature_names': ['sepal length (cm)',\n",
              "  'sepal width (cm)',\n",
              "  'petal length (cm)',\n",
              "  'petal width (cm)'],\n",
              " 'filename': 'iris.csv',\n",
              " 'frame': None,\n",
              " 'target': array([0, 0, 0, 0, 0, 0, 0, 0, 0, 0, 0, 0, 0, 0, 0, 0, 0, 0, 0, 0, 0, 0,\n",
              "        0, 0, 0, 0, 0, 0, 0, 0, 0, 0, 0, 0, 0, 0, 0, 0, 0, 0, 0, 0, 0, 0,\n",
              "        0, 0, 0, 0, 0, 0, 1, 1, 1, 1, 1, 1, 1, 1, 1, 1, 1, 1, 1, 1, 1, 1,\n",
              "        1, 1, 1, 1, 1, 1, 1, 1, 1, 1, 1, 1, 1, 1, 1, 1, 1, 1, 1, 1, 1, 1,\n",
              "        1, 1, 1, 1, 1, 1, 1, 1, 1, 1, 1, 1, 2, 2, 2, 2, 2, 2, 2, 2, 2, 2,\n",
              "        2, 2, 2, 2, 2, 2, 2, 2, 2, 2, 2, 2, 2, 2, 2, 2, 2, 2, 2, 2, 2, 2,\n",
              "        2, 2, 2, 2, 2, 2, 2, 2, 2, 2, 2, 2, 2, 2, 2, 2, 2, 2]),\n",
              " 'target_names': array(['setosa', 'versicolor', 'virginica'], dtype='<U10')}"
            ]
          },
          "metadata": {},
          "execution_count": 4
        }
      ],
      "source": [
        "data"
      ]
    },
    {
      "cell_type": "code",
      "source": [
        "target"
      ],
      "metadata": {
        "colab": {
          "base_uri": "https://localhost:8080/"
        },
        "id": "YuA67g7teOmb",
        "outputId": "cc9410cb-bb28-45dc-f3cb-fa9920ae2fe3"
      },
      "execution_count": 5,
      "outputs": [
        {
          "output_type": "execute_result",
          "data": {
            "text/plain": [
              "array([0, 0, 0, 0, 0, 0, 0, 0, 0, 0, 0, 0, 0, 0, 0, 0, 0, 0, 0, 0, 0, 0,\n",
              "       0, 0, 0, 0, 0, 0, 0, 0, 0, 0, 0, 0, 0, 0, 0, 0, 0, 0, 0, 0, 0, 0,\n",
              "       0, 0, 0, 0, 0, 0, 1, 1, 1, 1, 1, 1, 1, 1, 1, 1, 1, 1, 1, 1, 1, 1,\n",
              "       1, 1, 1, 1, 1, 1, 1, 1, 1, 1, 1, 1, 1, 1, 1, 1, 1, 1, 1, 1, 1, 1,\n",
              "       1, 1, 1, 1, 1, 1, 1, 1, 1, 1, 1, 1, 2, 2, 2, 2, 2, 2, 2, 2, 2, 2,\n",
              "       2, 2, 2, 2, 2, 2, 2, 2, 2, 2, 2, 2, 2, 2, 2, 2, 2, 2, 2, 2, 2, 2,\n",
              "       2, 2, 2, 2, 2, 2, 2, 2, 2, 2, 2, 2, 2, 2, 2, 2, 2, 2])"
            ]
          },
          "metadata": {},
          "execution_count": 5
        }
      ]
    },
    {
      "cell_type": "code",
      "execution_count": 8,
      "metadata": {
        "id": "b4XAj5Rta5HY",
        "colab": {
          "base_uri": "https://localhost:8080/"
        },
        "outputId": "f7582da4-844d-4669-c9c2-4aecfa03429f"
      },
      "outputs": [
        {
          "output_type": "execute_result",
          "data": {
            "text/plain": [
              "array([0, 1, 2])"
            ]
          },
          "metadata": {},
          "execution_count": 8
        }
      ],
      "source": [
        "### the uniques values\n",
        "\n",
        "N_= np.unique(target)"
      ]
    },
    {
      "cell_type": "code",
      "execution_count": 9,
      "metadata": {
        "colab": {
          "base_uri": "https://localhost:8080/"
        },
        "id": "SRvdDUEra5HY",
        "outputId": "26c08292-ed7e-4c7d-a967-50eb20fdc4c7"
      },
      "outputs": [
        {
          "output_type": "stream",
          "name": "stdout",
          "text": [
            "the unique values in the targets are [0 1 2]\n"
          ]
        }
      ],
      "source": [
        "print('the unique values in the targets are', N_)"
      ]
    },
    {
      "cell_type": "code",
      "execution_count": 10,
      "metadata": {
        "colab": {
          "base_uri": "https://localhost:8080/"
        },
        "id": "l4qtWQzna5HZ",
        "outputId": "7739e0b1-aed1-429a-9e5c-4ec038bfedf7"
      },
      "outputs": [
        {
          "output_type": "execute_result",
          "data": {
            "text/plain": [
              "(150,)"
            ]
          },
          "metadata": {},
          "execution_count": 10
        }
      ],
      "source": [
        "target.shape"
      ]
    },
    {
      "cell_type": "markdown",
      "source": [
        "## Remove the class 2 in our dataset in order to have a binary classification problem"
      ],
      "metadata": {
        "id": "FwLb63ZQ8Spu"
      }
    },
    {
      "cell_type": "code",
      "execution_count": 15,
      "metadata": {
        "id": "gOL6z-Qqa5Ha"
      },
      "outputs": [],
      "source": [
        "##############\n",
        "#y = np.array([i for i in target if i != 2])\n",
        "y=target[target != 2]\n",
        "#######"
      ]
    },
    {
      "cell_type": "code",
      "execution_count": 14,
      "metadata": {
        "id": "QRFOsXyQa5Ha",
        "outputId": "d21a4f07-e951-43ce-d6b8-f7dc84873373",
        "colab": {
          "base_uri": "https://localhost:8080/"
        }
      },
      "outputs": [
        {
          "output_type": "execute_result",
          "data": {
            "text/plain": [
              "(100,)"
            ]
          },
          "metadata": {},
          "execution_count": 14
        }
      ],
      "source": [
        "y.shape"
      ]
    },
    {
      "cell_type": "code",
      "execution_count": null,
      "metadata": {
        "id": "0EOcinLHa5Hb",
        "outputId": "f8b9238e-f898-427f-e86f-ef94cdaad884"
      },
      "outputs": [
        {
          "data": {
            "text/plain": [
              "array([0, 0, 0, 0, 0, 0, 0, 0, 0, 0, 0, 0, 0, 0, 0, 0, 0, 0, 0, 0, 0, 0,\n",
              "       0, 0, 0, 0, 0, 0, 0, 0, 0, 0, 0, 0, 0, 0, 0, 0, 0, 0, 0, 0, 0, 0,\n",
              "       0, 0, 0, 0, 0, 0, 1, 1, 1, 1, 1, 1, 1, 1, 1, 1, 1, 1, 1, 1, 1, 1,\n",
              "       1, 1, 1, 1, 1, 1, 1, 1, 1, 1, 1, 1, 1, 1, 1, 1, 1, 1, 1, 1, 1, 1,\n",
              "       1, 1, 1, 1, 1, 1, 1, 1, 1, 1, 1, 1])"
            ]
          },
          "execution_count": 11,
          "metadata": {},
          "output_type": "execute_result"
        }
      ],
      "source": [
        "y"
      ]
    },
    {
      "cell_type": "markdown",
      "source": [
        "## Replace all 0 in the target by -1 using numpy"
      ],
      "metadata": {
        "id": "yQ_xeoyJ0VWd"
      }
    },
    {
      "cell_type": "code",
      "execution_count": 16,
      "metadata": {
        "id": "dfeM2mVta5Hb"
      },
      "outputs": [],
      "source": [
        "#############\n",
        "y[y==0]=-1 # or y=np.where(y==0, -1, y)\n",
        "###########"
      ]
    },
    {
      "cell_type": "code",
      "execution_count": 17,
      "metadata": {
        "id": "M1g4Vb4za5Hb",
        "outputId": "282803b9-7ec7-4d54-97f5-534ed10c7817",
        "colab": {
          "base_uri": "https://localhost:8080/"
        }
      },
      "outputs": [
        {
          "output_type": "execute_result",
          "data": {
            "text/plain": [
              "array([-1, -1, -1, -1, -1, -1, -1, -1, -1, -1, -1, -1, -1, -1, -1, -1, -1,\n",
              "       -1, -1, -1, -1, -1, -1, -1, -1, -1, -1, -1, -1, -1, -1, -1, -1, -1,\n",
              "       -1, -1, -1, -1, -1, -1, -1, -1, -1, -1, -1, -1, -1, -1, -1, -1,  1,\n",
              "        1,  1,  1,  1,  1,  1,  1,  1,  1,  1,  1,  1,  1,  1,  1,  1,  1,\n",
              "        1,  1,  1,  1,  1,  1,  1,  1,  1,  1,  1,  1,  1,  1,  1,  1,  1,\n",
              "        1,  1,  1,  1,  1,  1,  1,  1,  1,  1,  1,  1,  1,  1,  1])"
            ]
          },
          "metadata": {},
          "execution_count": 17
        }
      ],
      "source": [
        "y"
      ]
    },
    {
      "cell_type": "code",
      "execution_count": 19,
      "metadata": {
        "id": "Zj8C-cD_a5Hb"
      },
      "outputs": [],
      "source": [
        "### Inputs values\n",
        "Inputs = data.data"
      ]
    },
    {
      "cell_type": "code",
      "execution_count": 20,
      "metadata": {
        "colab": {
          "base_uri": "https://localhost:8080/"
        },
        "id": "PMF4LKb_a5Hc",
        "outputId": "a492eca9-3db6-4ecc-fb8d-8e755eb55c54"
      },
      "outputs": [
        {
          "output_type": "execute_result",
          "data": {
            "text/plain": [
              "(150, 4)"
            ]
          },
          "metadata": {},
          "execution_count": 20
        }
      ],
      "source": [
        "Inputs.shape"
      ]
    },
    {
      "cell_type": "markdown",
      "source": [
        "## Let's remove the last 50 rows in the inputs data (they belong to the class 2)"
      ],
      "metadata": {
        "id": "VjV5d0ZX0vEp"
      }
    },
    {
      "cell_type": "code",
      "execution_count": 21,
      "metadata": {
        "id": "y3xruEHZa5Hc"
      },
      "outputs": [],
      "source": [
        "#### New Input\n",
        "X = Inputs[:100,:]"
      ]
    },
    {
      "cell_type": "code",
      "execution_count": 22,
      "metadata": {
        "id": "hDg4AQUza5Hd",
        "outputId": "3f5a8244-8999-44aa-8ccd-193a5440a01f",
        "colab": {
          "base_uri": "https://localhost:8080/"
        }
      },
      "outputs": [
        {
          "output_type": "execute_result",
          "data": {
            "text/plain": [
              "(100, 4)"
            ]
          },
          "metadata": {},
          "execution_count": 22
        }
      ],
      "source": [
        "X.shape"
      ]
    },
    {
      "cell_type": "code",
      "source": [
        "plt.scatter(X[:, 0], y)"
      ],
      "metadata": {
        "colab": {
          "base_uri": "https://localhost:8080/",
          "height": 282
        },
        "id": "RNrh-r0xEzPV",
        "outputId": "ec0be767-4c5d-4a85-f737-cfce5890928c"
      },
      "execution_count": 26,
      "outputs": [
        {
          "output_type": "execute_result",
          "data": {
            "text/plain": [
              "<matplotlib.collections.PathCollection at 0x7f337c4b1b50>"
            ]
          },
          "metadata": {},
          "execution_count": 26
        },
        {
          "output_type": "display_data",
          "data": {
            "image/png": "[encoded data removed]",
            "text/plain": [
              "<Figure size 432x288 with 1 Axes>"
            ]
          },
          "metadata": {
            "needs_background": "light"
          }
        }
      ]
    },
    {
      "cell_type": "markdown",
      "source": [
        "## Combines the dataset and Shuffle them using numpy"
      ],
      "metadata": {
        "id": "V15p2I-D1P-X"
      }
    },
    {
      "cell_type": "code",
      "execution_count": 33,
      "metadata": {
        "id": "-2LXYdI4a5Hd",
        "colab": {
          "base_uri": "https://localhost:8080/"
        },
        "outputId": "20c970e1-6aaf-41f4-8dc5-d918ab137c12"
      },
      "outputs": [
        {
          "output_type": "execute_result",
          "data": {
            "text/plain": [
              "array([[ 5. ,  2.3,  3.3,  1. ,  1. ],\n",
              "       [ 5.8,  2.7,  4.1,  1. ,  1. ],\n",
              "       [ 4.6,  3.4,  1.4,  0.3, -1. ],\n",
              "       [ 5.6,  2.9,  3.6,  1.3,  1. ],\n",
              "       [ 5.7,  2.9,  4.2,  1.3,  1. ],\n",
              "       [ 6. ,  2.7,  5.1,  1.6,  1. ],\n",
              "       [ 5.1,  2.5,  3. ,  1.1,  1. ],\n",
              "       [ 4.4,  3.2,  1.3,  0.2, -1. ],\n",
              "       [ 5. ,  3. ,  1.6,  0.2, -1. ],\n",
              "       [ 5.7,  4.4,  1.5,  0.4, -1. ],\n",
              "       [ 6.7,  3. ,  5. ,  1.7,  1. ],\n",
              "       [ 4.9,  3.1,  1.5,  0.1, -1. ],\n",
              "       [ 6.1,  2.8,  4. ,  1.3,  1. ],\n",
              "       [ 6.2,  2.9,  4.3,  1.3,  1. ],\n",
              "       [ 4.9,  3.1,  1.5,  0.2, -1. ],\n",
              "       [ 6.6,  3. ,  4.4,  1.4,  1. ],\n",
              "       [ 5.8,  2.7,  3.9,  1.2,  1. ],\n",
              "       [ 5.1,  3.3,  1.7,  0.5, -1. ],\n",
              "       [ 5.2,  2.7,  3.9,  1.4,  1. ],\n",
              "       [ 4.8,  3. ,  1.4,  0.3, -1. ],\n",
              "       [ 6.1,  2.8,  4.7,  1.2,  1. ],\n",
              "       [ 4.8,  3. ,  1.4,  0.1, -1. ],\n",
              "       [ 4.4,  2.9,  1.4,  0.2, -1. ],\n",
              "       [ 5. ,  3.6,  1.4,  0.2, -1. ],\n",
              "       [ 5.7,  2.6,  3.5,  1. ,  1. ],\n",
              "       [ 6.7,  3.1,  4.7,  1.5,  1. ],\n",
              "       [ 5.1,  3.5,  1.4,  0.3, -1. ],\n",
              "       [ 6.7,  3.1,  4.4,  1.4,  1. ],\n",
              "       [ 4.6,  3.2,  1.4,  0.2, -1. ],\n",
              "       [ 7. ,  3.2,  4.7,  1.4,  1. ],\n",
              "       [ 4.8,  3.1,  1.6,  0.2, -1. ],\n",
              "       [ 5.4,  3.9,  1.7,  0.4, -1. ],\n",
              "       [ 4.3,  3. ,  1.1,  0.1, -1. ],\n",
              "       [ 5.4,  3.4,  1.5,  0.4, -1. ],\n",
              "       [ 5.6,  3. ,  4.1,  1.3,  1. ],\n",
              "       [ 4.8,  3.4,  1.6,  0.2, -1. ],\n",
              "       [ 6.6,  2.9,  4.6,  1.3,  1. ],\n",
              "       [ 6. ,  3.4,  4.5,  1.6,  1. ],\n",
              "       [ 5.2,  4.1,  1.5,  0.1, -1. ],\n",
              "       [ 5. ,  3.5,  1.3,  0.3, -1. ],\n",
              "       [ 5.4,  3.9,  1.3,  0.4, -1. ],\n",
              "       [ 5.2,  3.5,  1.5,  0.2, -1. ],\n",
              "       [ 5. ,  3.2,  1.2,  0.2, -1. ],\n",
              "       [ 5.5,  3.5,  1.3,  0.2, -1. ],\n",
              "       [ 5.8,  2.6,  4. ,  1.2,  1. ],\n",
              "       [ 5.5,  2.6,  4.4,  1.2,  1. ],\n",
              "       [ 6. ,  2.9,  4.5,  1.5,  1. ],\n",
              "       [ 6.8,  2.8,  4.8,  1.4,  1. ],\n",
              "       [ 6.2,  2.2,  4.5,  1.5,  1. ],\n",
              "       [ 5.1,  3.8,  1.6,  0.2, -1. ],\n",
              "       [ 5.5,  2.3,  4. ,  1.3,  1. ],\n",
              "       [ 5.9,  3.2,  4.8,  1.8,  1. ],\n",
              "       [ 5.5,  2.4,  3.8,  1.1,  1. ],\n",
              "       [ 5.9,  3. ,  4.2,  1.5,  1. ],\n",
              "       [ 5.7,  3.8,  1.7,  0.3, -1. ],\n",
              "       [ 6.1,  3. ,  4.6,  1.4,  1. ],\n",
              "       [ 4.9,  2.4,  3.3,  1. ,  1. ],\n",
              "       [ 5.7,  3. ,  4.2,  1.2,  1. ],\n",
              "       [ 6.5,  2.8,  4.6,  1.5,  1. ],\n",
              "       [ 5.7,  2.8,  4.5,  1.3,  1. ],\n",
              "       [ 5.2,  3.4,  1.4,  0.2, -1. ],\n",
              "       [ 6.9,  3.1,  4.9,  1.5,  1. ],\n",
              "       [ 5.4,  3. ,  4.5,  1.5,  1. ],\n",
              "       [ 5.5,  2.5,  4. ,  1.3,  1. ],\n",
              "       [ 5. ,  3.3,  1.4,  0.2, -1. ],\n",
              "       [ 6.3,  2.3,  4.4,  1.3,  1. ],\n",
              "       [ 4.9,  3.6,  1.4,  0.1, -1. ],\n",
              "       [ 5.3,  3.7,  1.5,  0.2, -1. ],\n",
              "       [ 5.5,  4.2,  1.4,  0.2, -1. ],\n",
              "       [ 5. ,  3.5,  1.6,  0.6, -1. ],\n",
              "       [ 5. ,  3.4,  1.5,  0.2, -1. ],\n",
              "       [ 6. ,  2.2,  4. ,  1. ,  1. ],\n",
              "       [ 5.7,  2.8,  4.1,  1.3,  1. ],\n",
              "       [ 4.7,  3.2,  1.6,  0.2, -1. ],\n",
              "       [ 5.6,  2.5,  3.9,  1.1,  1. ],\n",
              "       [ 6.4,  3.2,  4.5,  1.5,  1. ],\n",
              "       [ 4.9,  3. ,  1.4,  0.2, -1. ],\n",
              "       [ 5. ,  2. ,  3.5,  1. ,  1. ],\n",
              "       [ 6.1,  2.9,  4.7,  1.4,  1. ],\n",
              "       [ 4.7,  3.2,  1.3,  0.2, -1. ],\n",
              "       [ 5.6,  3. ,  4.5,  1.5,  1. ],\n",
              "       [ 4.6,  3.6,  1. ,  0.2, -1. ],\n",
              "       [ 5.5,  2.4,  3.7,  1. ,  1. ],\n",
              "       [ 5. ,  3.4,  1.6,  0.4, -1. ],\n",
              "       [ 5.8,  4. ,  1.2,  0.2, -1. ],\n",
              "       [ 5.1,  3.4,  1.5,  0.2, -1. ],\n",
              "       [ 5.1,  3.8,  1.9,  0.4, -1. ],\n",
              "       [ 5.4,  3.4,  1.7,  0.2, -1. ],\n",
              "       [ 4.4,  3. ,  1.3,  0.2, -1. ],\n",
              "       [ 5.6,  2.7,  4.2,  1.3,  1. ],\n",
              "       [ 5.4,  3.7,  1.5,  0.2, -1. ],\n",
              "       [ 4.5,  2.3,  1.3,  0.3, -1. ],\n",
              "       [ 6.4,  2.9,  4.3,  1.3,  1. ],\n",
              "       [ 5.1,  3.8,  1.5,  0.3, -1. ],\n",
              "       [ 5.1,  3.7,  1.5,  0.4, -1. ],\n",
              "       [ 5.1,  3.5,  1.4,  0.2, -1. ],\n",
              "       [ 6.3,  2.5,  4.9,  1.5,  1. ],\n",
              "       [ 6.3,  3.3,  4.7,  1.6,  1. ],\n",
              "       [ 4.6,  3.1,  1.5,  0.2, -1. ],\n",
              "       [ 4.8,  3.4,  1.9,  0.2, -1. ]])"
            ]
          },
          "metadata": {},
          "execution_count": 33
        }
      ],
      "source": [
        "dataset=np.c_[X, y]\n",
        "np.random.seed(3)\n",
        "np.random.shuffle(dataset)\n",
        "dataset\n"
      ]
    },
    {
      "cell_type": "markdown",
      "source": [
        "## Split the data into (X_train, Y_train), (X_test, Y_test):  80% for training and 20% for test"
      ],
      "metadata": {
        "id": "mhbqMNIV3DrM"
      }
    },
    {
      "cell_type": "code",
      "execution_count": 37,
      "metadata": {
        "id": "YTxsELH1a5He"
      },
      "outputs": [],
      "source": [
        "#########\n",
        "from sklearn.model_selection import train_test_split\n",
        "X_train, X_test, Y_train, Y_test = train_test_split(X, y, test_size=0.2)\n",
        "#or \n",
        "# p=0.8 #percentage 80%\n",
        "# split=int(len(dataset)*p)\n",
        "# X_train=dataset[:split,:-1]\n",
        "# X_test=dataset[split:,:-1]\n",
        "# Y_train=dataset[:split, -1]\n",
        "# Y_test=dataset[split:,-1]\n",
        "###########"
      ]
    },
    {
      "cell_type": "code",
      "execution_count": 35,
      "metadata": {
        "id": "f2SrQK0ra5He",
        "outputId": "fdae3e12-c1ac-4eeb-fdfa-29370cd72851",
        "colab": {
          "base_uri": "https://localhost:8080/"
        }
      },
      "outputs": [
        {
          "output_type": "stream",
          "name": "stdout",
          "text": [
            "(80, 4)\n"
          ]
        }
      ],
      "source": [
        "print(X_train.shape)"
      ]
    },
    {
      "cell_type": "code",
      "execution_count": 36,
      "metadata": {
        "id": "LQdFxmC4a5Hf",
        "outputId": "bb5b24eb-e21c-4490-b26a-867255fad87b",
        "colab": {
          "base_uri": "https://localhost:8080/"
        }
      },
      "outputs": [
        {
          "output_type": "stream",
          "name": "stdout",
          "text": [
            "(80,)\n",
            "(20, 4)\n",
            "(20,)\n"
          ]
        }
      ],
      "source": [
        "print(Y_train.shape)\n",
        "print(X_test.shape)\n",
        "print(Y_test.shape)"
      ]
    },
    {
      "cell_type": "markdown",
      "source": [
        "## Implement the class Perceptron\n",
        "\n",
        "$ŷ[i] = Θ^TX[i]$\n",
        "\n",
        "if  $y[i]*np.sign(ŷ[i]) <= 0$:\n",
        "\n",
        "        update Θ: Θ = Θ + y[i]*X[i]\n",
        "else:\n",
        "\n",
        "      Θ = Θ\n",
        "\n",
        "## For prediction: \n",
        "\n",
        "np.sign(X @ Θ)"
      ],
      "metadata": {
        "id": "-S45JTl04rf0"
      }
    },
    {
      "cell_type": "code",
      "source": [
        ""
      ],
      "metadata": {
        "id": "rZ6z6emt3wUI"
      },
      "execution_count": null,
      "outputs": []
    },
    {
      "cell_type": "code",
      "execution_count": 161,
      "metadata": {
        "id": "Fi4m35Q6a5Hh"
      },
      "outputs": [],
      "source": [
        "class perceptron:\n",
        "    \"\"\"class that implements the perceptron\"\"\"\n",
        "    eps = 1e-2\n",
        "    def __init__(self, X, Y,theta, iter_= 100):\n",
        "        self.X = X\n",
        "        self.Y = Y\n",
        "        self.iter_ = iter_\n",
        "        self.theta = theta\n",
        "        #self.y_hat={}\n",
        "        \n",
        "    def train(self):\n",
        "        #loop over the number of iteration and the number of example\n",
        "        for epoch in range(self.iter_):\n",
        "          for i in range(self.X.shape[0]):            \n",
        "            self.y_hat=self.theta.T@self.X[i]\n",
        "            if self.Y[i]*np.sign(self.y_hat)<=0: self.theta=self.theta+self.Y[i]*self.X[i]\n",
        "            else:self.theta=self.theta\n",
        "        # compute the output of the model and update theta if necessary\n",
        "    \n",
        "    def predic(self,X):\n",
        "      return np.sign(X@self.theta)\n",
        "      \n",
        "    \n",
        "    def accuracy(self,X,Y):\n",
        "        return \"{} %\".format((np.sum(Y==self.predic(X))/X.shape[0])*100)\n",
        "        \n",
        "            "
      ]
    },
    {
      "cell_type": "code",
      "execution_count": 162,
      "metadata": {
        "id": "wcwMg-Jga5Hi"
      },
      "outputs": [],
      "source": [
        "perceptron = perceptron(X_train,Y_train,np.random.rand(4)*1e-4)"
      ]
    },
    {
      "cell_type": "code",
      "execution_count": 163,
      "metadata": {
        "id": "jZquZaUva5Hj"
      },
      "outputs": [],
      "source": [
        "perceptron.train()"
      ]
    },
    {
      "cell_type": "code",
      "execution_count": 164,
      "metadata": {
        "id": "mrNV3LiUa5Hk",
        "outputId": "67eff267-066f-45bc-92e0-12e563b0c95d",
        "colab": {
          "base_uri": "https://localhost:8080/"
        }
      },
      "outputs": [
        {
          "output_type": "execute_result",
          "data": {
            "text/plain": [
              "array([ 1.,  1., -1., -1., -1., -1., -1., -1.,  1.,  1., -1.,  1.,  1.,\n",
              "        1., -1.,  1., -1.,  1., -1., -1.])"
            ]
          },
          "metadata": {},
          "execution_count": 164
        }
      ],
      "source": [
        "perceptron.predic(X_test)"
      ]
    },
    {
      "cell_type": "code",
      "execution_count": 165,
      "metadata": {
        "id": "M_CL5aBBa5Hk",
        "outputId": "f49dc291-7d64-494e-b1d0-4d9178652839",
        "colab": {
          "base_uri": "https://localhost:8080/",
          "height": 37
        }
      },
      "outputs": [
        {
          "output_type": "execute_result",
          "data": {
            "application/vnd.google.colaboratory.intrinsic+json": {
              "type": "string"
            },
            "text/plain": [
              "'100.0 %'"
            ]
          },
          "metadata": {},
          "execution_count": 165
        }
      ],
      "source": [
        "perceptron.accuracy(X_test, Y_test)"
      ]
    },
    {
      "cell_type": "code",
      "execution_count": null,
      "metadata": {
        "id": "I9TxPjKOa5Hk",
        "outputId": "2c065409-987a-498e-83fc-9d6589c6bf1b"
      },
      "outputs": [
        {
          "data": {
            "text/plain": [
              "20"
            ]
          },
          "execution_count": 36,
          "metadata": {},
          "output_type": "execute_result"
        }
      ],
      "source": [
        "#np.sum(Y_test==Perc.predic(X_test))"
      ]
    }
  ],
  "metadata": {
    "kernelspec": {
      "display_name": "Python 3",
      "language": "python",
      "name": "python3"
    },
    "language_info": {
      "codemirror_mode": {
        "name": "ipython",
        "version": 3
      },
      "file_extension": ".py",
      "mimetype": "text/x-python",
      "name": "python",
      "nbconvert_exporter": "python",
      "pygments_lexer": "ipython3",
      "version": "3.8.5"
    },
    "colab": {
      "name": "Gilda of Perceptron_Tutorial.ipynb",
      "provenance": [],
      "collapsed_sections": [],
      "include_colab_link": true
    }
  },
  "nbformat": 4,
  "nbformat_minor": 0
}