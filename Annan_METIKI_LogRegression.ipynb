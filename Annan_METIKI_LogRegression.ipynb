{
  "nbformat": 4,
  "nbformat_minor": 0,
  "metadata": {
    "colab": {
      "name": "Annan_METIKI_LogRegression.ipynb",
      "provenance": [],
      "collapsed_sections": [],
      "include_colab_link": true
    },
    "kernelspec": {
      "name": "python3",
      "display_name": "Python 3"
    },
    "language_info": {
      "name": "python"
    }
  },
  "cells": [
    {
      "cell_type": "markdown",
      "metadata": {
        "id": "view-in-github",
        "colab_type": "text"
      },
      "source": [
        "<a href=\"https://colab.research.google.com/github/Annanmetiki/test-live-coding/blob/master/Annan_METIKI_LogRegression.ipynb\" target=\"_parent\"><img src=\"https://colab.research.google.com/assets/colab-badge.svg\" alt=\"Open In Colab\"/></a>"
      ]
    },
    {
      "cell_type": "markdown",
      "source": [
        "[![Open In Colab](https://colab.research.google.com/assets/colab-badge.svg)](https://colab.research.google.com/github/googlecolab/colabtools/blob/master/notebooks/colab-github-demo.ipynb)"
      ],
      "metadata": {
        "id": "3hu6wCiSyg4B"
      }
    },
    {
      "cell_type": "markdown",
      "source": [
        "# Logistic Regression Implementation"
      ],
      "metadata": {
        "id": "3H4HVu_0ckc5"
      }
    },
    {
      "cell_type": "markdown",
      "source": [
        "# Instructions:\n",
        "1. Save a copy of this notebook in your drive;\n",
        "2. Name it by: `Your_fullname_LogRegression.ipynb`\n",
        "3. Close the original notebook\n",
        "4. Start typing your codes.\n",
        "\n",
        "`Note:` Discuss with your neighbors."
      ],
      "metadata": {
        "id": "7RO8S4CbmJVH"
      }
    },
    {
      "cell_type": "markdown",
      "source": [
        "# Part 1: Data preparation\n",
        "\n",
        "## Import Dataset Libraries"
      ],
      "metadata": {
        "id": "VhL_jPWQZCoX"
      }
    },
    {
      "cell_type": "code",
      "execution_count": 137,
      "metadata": {
        "id": "h5tJBDqB444I"
      },
      "outputs": [],
      "source": [
        "import numpy as np\n",
        "import pandas as pd\n",
        "import matplotlib.pyplot as plt"
      ]
    },
    {
      "cell_type": "markdown",
      "source": [
        "Question 0: Import the dataset Dataset"
      ],
      "metadata": {
        "id": "wwf9SiJ4ZEvs"
      }
    },
    {
      "cell_type": "code",
      "source": [
        "##### WRITE YOUR CODE HERE #####\n",
        "path= '/content/diabetes.csv'\n",
        "data= pd.read_csv(path)\n",
        "#### END CODE ####"
      ],
      "metadata": {
        "id": "R42UJPRzUYPW"
      },
      "execution_count": 2,
      "outputs": []
    },
    {
      "cell_type": "markdown",
      "source": [
        "Question 1: Print the first five rows of the Dataset"
      ],
      "metadata": {
        "id": "cFQTnXLoXgy4"
      }
    },
    {
      "cell_type": "code",
      "source": [
        "##### WRITE YOUR CODE HERE #####\n",
        "data.head(5)\n",
        "#### END CODE ####"
      ],
      "metadata": {
        "colab": {
          "base_uri": "https://localhost:8080/",
          "height": 268
        },
        "id": "Fj4Vhz42U5fd",
        "outputId": "8c04f00b-1fdb-45bd-b49a-97b8494757ab"
      },
      "execution_count": 3,
      "outputs": [
        {
          "output_type": "execute_result",
          "data": {
            "text/html": [
              "\n",
              "  <div id=\"df-8c41578d-db88-4cd8-9b02-5386455077c2\">\n",
              "    <div class=\"colab-df-container\">\n",
              "      <div>\n",
              "<style scoped>\n",
              "    .dataframe tbody tr th:only-of-type {\n",
              "        vertical-align: middle;\n",
              "    }\n",
              "\n",
              "    .dataframe tbody tr th {\n",
              "        vertical-align: top;\n",
              "    }\n",
              "\n",
              "    .dataframe thead th {\n",
              "        text-align: right;\n",
              "    }\n",
              "</style>\n",
              "<table border=\"1\" class=\"dataframe\">\n",
              "  <thead>\n",
              "    <tr style=\"text-align: right;\">\n",
              "      <th></th>\n",
              "      <th>Pregnancies</th>\n",
              "      <th>Glucose</th>\n",
              "      <th>BloodPressure</th>\n",
              "      <th>SkinThickness</th>\n",
              "      <th>Insulin</th>\n",
              "      <th>BMI</th>\n",
              "      <th>DiabetesPedigreeFunction</th>\n",
              "      <th>Age</th>\n",
              "      <th>Outcome</th>\n",
              "    </tr>\n",
              "  </thead>\n",
              "  <tbody>\n",
              "    <tr>\n",
              "      <th>0</th>\n",
              "      <td>6</td>\n",
              "      <td>148</td>\n",
              "      <td>72</td>\n",
              "      <td>35</td>\n",
              "      <td>0</td>\n",
              "      <td>33.6</td>\n",
              "      <td>0.627</td>\n",
              "      <td>50</td>\n",
              "      <td>1</td>\n",
              "    </tr>\n",
              "    <tr>\n",
              "      <th>1</th>\n",
              "      <td>1</td>\n",
              "      <td>85</td>\n",
              "      <td>66</td>\n",
              "      <td>29</td>\n",
              "      <td>0</td>\n",
              "      <td>26.6</td>\n",
              "      <td>0.351</td>\n",
              "      <td>31</td>\n",
              "      <td>0</td>\n",
              "    </tr>\n",
              "    <tr>\n",
              "      <th>2</th>\n",
              "      <td>8</td>\n",
              "      <td>183</td>\n",
              "      <td>64</td>\n",
              "      <td>0</td>\n",
              "      <td>0</td>\n",
              "      <td>23.3</td>\n",
              "      <td>0.672</td>\n",
              "      <td>32</td>\n",
              "      <td>1</td>\n",
              "    </tr>\n",
              "    <tr>\n",
              "      <th>3</th>\n",
              "      <td>1</td>\n",
              "      <td>89</td>\n",
              "      <td>66</td>\n",
              "      <td>23</td>\n",
              "      <td>94</td>\n",
              "      <td>28.1</td>\n",
              "      <td>0.167</td>\n",
              "      <td>21</td>\n",
              "      <td>0</td>\n",
              "    </tr>\n",
              "    <tr>\n",
              "      <th>4</th>\n",
              "      <td>0</td>\n",
              "      <td>137</td>\n",
              "      <td>40</td>\n",
              "      <td>35</td>\n",
              "      <td>168</td>\n",
              "      <td>43.1</td>\n",
              "      <td>2.288</td>\n",
              "      <td>33</td>\n",
              "      <td>1</td>\n",
              "    </tr>\n",
              "  </tbody>\n",
              "</table>\n",
              "</div>\n",
              "      <button class=\"colab-df-convert\" onclick=\"convertToInteractive('df-8c41578d-db88-4cd8-9b02-5386455077c2')\"\n",
              "              title=\"Convert this dataframe to an interactive table.\"\n",
              "              style=\"display:none;\">\n",
              "        \n",
              "  <svg xmlns=\"http://www.w3.org/2000/svg\" height=\"24px\"viewBox=\"0 0 24 24\"\n",
              "       width=\"24px\">\n",
              "    <path d=\"M0 0h24v24H0V0z\" fill=\"none\"/>\n",
              "    <path d=\"M18.56 5.44l.94 2.06.94-2.06 2.06-.94-2.06-.94-.94-2.06-.94 2.06-2.06.94zm-11 1L8.5 8.5l.94-2.06 2.06-.94-2.06-.94L8.5 2.5l-.94 2.06-2.06.94zm10 10l.94 2.06.94-2.06 2.06-.94-2.06-.94-.94-2.06-.94 2.06-2.06.94z\"/><path d=\"M17.41 7.96l-1.37-1.37c-.4-.4-.92-.59-1.43-.59-.52 0-1.04.2-1.43.59L10.3 9.45l-7.72 7.72c-.78.78-.78 2.05 0 2.83L4 21.41c.39.39.9.59 1.41.59.51 0 1.02-.2 1.41-.59l7.78-7.78 2.81-2.81c.8-.78.8-2.07 0-2.86zM5.41 20L4 18.59l7.72-7.72 1.47 1.35L5.41 20z\"/>\n",
              "  </svg>\n",
              "      </button>\n",
              "      \n",
              "  <style>\n",
              "    .colab-df-container {\n",
              "      display:flex;\n",
              "      flex-wrap:wrap;\n",
              "      gap: 12px;\n",
              "    }\n",
              "\n",
              "    .colab-df-convert {\n",
              "      background-color: #E8F0FE;\n",
              "      border: none;\n",
              "      border-radius: 50%;\n",
              "      cursor: pointer;\n",
              "      display: none;\n",
              "      fill: #1967D2;\n",
              "      height: 32px;\n",
              "      padding: 0 0 0 0;\n",
              "      width: 32px;\n",
              "    }\n",
              "\n",
              "    .colab-df-convert:hover {\n",
              "      background-color: #E2EBFA;\n",
              "      box-shadow: 0px 1px 2px rgba(60, 64, 67, 0.3), 0px 1px 3px 1px rgba(60, 64, 67, 0.15);\n",
              "      fill: #174EA6;\n",
              "    }\n",
              "\n",
              "    [theme=dark] .colab-df-convert {\n",
              "      background-color: #3B4455;\n",
              "      fill: #D2E3FC;\n",
              "    }\n",
              "\n",
              "    [theme=dark] .colab-df-convert:hover {\n",
              "      background-color: #434B5C;\n",
              "      box-shadow: 0px 1px 3px 1px rgba(0, 0, 0, 0.15);\n",
              "      filter: drop-shadow(0px 1px 2px rgba(0, 0, 0, 0.3));\n",
              "      fill: #FFFFFF;\n",
              "    }\n",
              "  </style>\n",
              "\n",
              "      <script>\n",
              "        const buttonEl =\n",
              "          document.querySelector('#df-8c41578d-db88-4cd8-9b02-5386455077c2 button.colab-df-convert');\n",
              "        buttonEl.style.display =\n",
              "          google.colab.kernel.accessAllowed ? 'block' : 'none';\n",
              "\n",
              "        async function convertToInteractive(key) {\n",
              "          const element = document.querySelector('#df-8c41578d-db88-4cd8-9b02-5386455077c2');\n",
              "          const dataTable =\n",
              "            await google.colab.kernel.invokeFunction('convertToInteractive',\n",
              "                                                     [key], {});\n",
              "          if (!dataTable) return;\n",
              "\n",
              "          const docLinkHtml = 'Like what you see? Visit the ' +\n",
              "            '<a target=\"_blank\" href=https://colab.research.google.com/notebooks/data_table.ipynb>data table notebook</a>'\n",
              "            + ' to learn more about interactive tables.';\n",
              "          element.innerHTML = '';\n",
              "          dataTable['output_type'] = 'display_data';\n",
              "          await google.colab.output.renderOutput(dataTable, element);\n",
              "          const docLink = document.createElement('div');\n",
              "          docLink.innerHTML = docLinkHtml;\n",
              "          element.appendChild(docLink);\n",
              "        }\n",
              "      </script>\n",
              "    </div>\n",
              "  </div>\n",
              "  "
            ],
            "text/plain": [
              "   Pregnancies  Glucose  BloodPressure  ...  DiabetesPedigreeFunction  Age  Outcome\n",
              "0            6      148             72  ...                     0.627   50        1\n",
              "1            1       85             66  ...                     0.351   31        0\n",
              "2            8      183             64  ...                     0.672   32        1\n",
              "3            1       89             66  ...                     0.167   21        0\n",
              "4            0      137             40  ...                     2.288   33        1\n",
              "\n",
              "[5 rows x 9 columns]"
            ]
          },
          "metadata": {},
          "execution_count": 3
        }
      ]
    },
    {
      "cell_type": "markdown",
      "source": [
        "Question 2: Check the types of your variables/features"
      ],
      "metadata": {
        "id": "6iVatSkruxwb"
      }
    },
    {
      "cell_type": "code",
      "source": [
        "##### WRITE YOUR CODE HERE #####\n",
        "data.dtypes\n",
        "#### END CODE ####"
      ],
      "metadata": {
        "colab": {
          "base_uri": "https://localhost:8080/"
        },
        "id": "tM09phY_U8J_",
        "outputId": "b187706d-0d5d-4308-b757-3c32a153226f"
      },
      "execution_count": 5,
      "outputs": [
        {
          "output_type": "execute_result",
          "data": {
            "text/plain": [
              "Pregnancies                   int64\n",
              "Glucose                       int64\n",
              "BloodPressure                 int64\n",
              "SkinThickness                 int64\n",
              "Insulin                       int64\n",
              "BMI                         float64\n",
              "DiabetesPedigreeFunction    float64\n",
              "Age                           int64\n",
              "Outcome                       int64\n",
              "dtype: object"
            ]
          },
          "metadata": {},
          "execution_count": 5
        }
      ]
    },
    {
      "cell_type": "markdown",
      "source": [
        "Question 3: Describe your dataset"
      ],
      "metadata": {
        "id": "o7idUq99XlAH"
      }
    },
    {
      "cell_type": "code",
      "source": [
        "##### WRITE YOUR CODE HERE #####\n",
        "data.describe()\n",
        "#### END CODE ####"
      ],
      "metadata": {
        "colab": {
          "base_uri": "https://localhost:8080/",
          "height": 361
        },
        "id": "qWo3tf5dZadO",
        "outputId": "1f64e41d-dbd1-44c2-ed1d-5a00b2231ae2"
      },
      "execution_count": 6,
      "outputs": [
        {
          "output_type": "execute_result",
          "data": {
            "text/html": [
              "\n",
              "  <div id=\"df-a6798913-9b54-4db6-b1dd-353a46aa76ed\">\n",
              "    <div class=\"colab-df-container\">\n",
              "      <div>\n",
              "<style scoped>\n",
              "    .dataframe tbody tr th:only-of-type {\n",
              "        vertical-align: middle;\n",
              "    }\n",
              "\n",
              "    .dataframe tbody tr th {\n",
              "        vertical-align: top;\n",
              "    }\n",
              "\n",
              "    .dataframe thead th {\n",
              "        text-align: right;\n",
              "    }\n",
              "</style>\n",
              "<table border=\"1\" class=\"dataframe\">\n",
              "  <thead>\n",
              "    <tr style=\"text-align: right;\">\n",
              "      <th></th>\n",
              "      <th>Pregnancies</th>\n",
              "      <th>Glucose</th>\n",
              "      <th>BloodPressure</th>\n",
              "      <th>SkinThickness</th>\n",
              "      <th>Insulin</th>\n",
              "      <th>BMI</th>\n",
              "      <th>DiabetesPedigreeFunction</th>\n",
              "      <th>Age</th>\n",
              "      <th>Outcome</th>\n",
              "    </tr>\n",
              "  </thead>\n",
              "  <tbody>\n",
              "    <tr>\n",
              "      <th>count</th>\n",
              "      <td>768.000000</td>\n",
              "      <td>768.000000</td>\n",
              "      <td>768.000000</td>\n",
              "      <td>768.000000</td>\n",
              "      <td>768.000000</td>\n",
              "      <td>768.000000</td>\n",
              "      <td>768.000000</td>\n",
              "      <td>768.000000</td>\n",
              "      <td>768.000000</td>\n",
              "    </tr>\n",
              "    <tr>\n",
              "      <th>mean</th>\n",
              "      <td>3.845052</td>\n",
              "      <td>120.894531</td>\n",
              "      <td>69.105469</td>\n",
              "      <td>20.536458</td>\n",
              "      <td>79.799479</td>\n",
              "      <td>31.992578</td>\n",
              "      <td>0.471876</td>\n",
              "      <td>33.240885</td>\n",
              "      <td>0.348958</td>\n",
              "    </tr>\n",
              "    <tr>\n",
              "      <th>std</th>\n",
              "      <td>3.369578</td>\n",
              "      <td>31.972618</td>\n",
              "      <td>19.355807</td>\n",
              "      <td>15.952218</td>\n",
              "      <td>115.244002</td>\n",
              "      <td>7.884160</td>\n",
              "      <td>0.331329</td>\n",
              "      <td>11.760232</td>\n",
              "      <td>0.476951</td>\n",
              "    </tr>\n",
              "    <tr>\n",
              "      <th>min</th>\n",
              "      <td>0.000000</td>\n",
              "      <td>0.000000</td>\n",
              "      <td>0.000000</td>\n",
              "      <td>0.000000</td>\n",
              "      <td>0.000000</td>\n",
              "      <td>0.000000</td>\n",
              "      <td>0.078000</td>\n",
              "      <td>21.000000</td>\n",
              "      <td>0.000000</td>\n",
              "    </tr>\n",
              "    <tr>\n",
              "      <th>25%</th>\n",
              "      <td>1.000000</td>\n",
              "      <td>99.000000</td>\n",
              "      <td>62.000000</td>\n",
              "      <td>0.000000</td>\n",
              "      <td>0.000000</td>\n",
              "      <td>27.300000</td>\n",
              "      <td>0.243750</td>\n",
              "      <td>24.000000</td>\n",
              "      <td>0.000000</td>\n",
              "    </tr>\n",
              "    <tr>\n",
              "      <th>50%</th>\n",
              "      <td>3.000000</td>\n",
              "      <td>117.000000</td>\n",
              "      <td>72.000000</td>\n",
              "      <td>23.000000</td>\n",
              "      <td>30.500000</td>\n",
              "      <td>32.000000</td>\n",
              "      <td>0.372500</td>\n",
              "      <td>29.000000</td>\n",
              "      <td>0.000000</td>\n",
              "    </tr>\n",
              "    <tr>\n",
              "      <th>75%</th>\n",
              "      <td>6.000000</td>\n",
              "      <td>140.250000</td>\n",
              "      <td>80.000000</td>\n",
              "      <td>32.000000</td>\n",
              "      <td>127.250000</td>\n",
              "      <td>36.600000</td>\n",
              "      <td>0.626250</td>\n",
              "      <td>41.000000</td>\n",
              "      <td>1.000000</td>\n",
              "    </tr>\n",
              "    <tr>\n",
              "      <th>max</th>\n",
              "      <td>17.000000</td>\n",
              "      <td>199.000000</td>\n",
              "      <td>122.000000</td>\n",
              "      <td>99.000000</td>\n",
              "      <td>846.000000</td>\n",
              "      <td>67.100000</td>\n",
              "      <td>2.420000</td>\n",
              "      <td>81.000000</td>\n",
              "      <td>1.000000</td>\n",
              "    </tr>\n",
              "  </tbody>\n",
              "</table>\n",
              "</div>\n",
              "      <button class=\"colab-df-convert\" onclick=\"convertToInteractive('df-a6798913-9b54-4db6-b1dd-353a46aa76ed')\"\n",
              "              title=\"Convert this dataframe to an interactive table.\"\n",
              "              style=\"display:none;\">\n",
              "        \n",
              "  <svg xmlns=\"http://www.w3.org/2000/svg\" height=\"24px\"viewBox=\"0 0 24 24\"\n",
              "       width=\"24px\">\n",
              "    <path d=\"M0 0h24v24H0V0z\" fill=\"none\"/>\n",
              "    <path d=\"M18.56 5.44l.94 2.06.94-2.06 2.06-.94-2.06-.94-.94-2.06-.94 2.06-2.06.94zm-11 1L8.5 8.5l.94-2.06 2.06-.94-2.06-.94L8.5 2.5l-.94 2.06-2.06.94zm10 10l.94 2.06.94-2.06 2.06-.94-2.06-.94-.94-2.06-.94 2.06-2.06.94z\"/><path d=\"M17.41 7.96l-1.37-1.37c-.4-.4-.92-.59-1.43-.59-.52 0-1.04.2-1.43.59L10.3 9.45l-7.72 7.72c-.78.78-.78 2.05 0 2.83L4 21.41c.39.39.9.59 1.41.59.51 0 1.02-.2 1.41-.59l7.78-7.78 2.81-2.81c.8-.78.8-2.07 0-2.86zM5.41 20L4 18.59l7.72-7.72 1.47 1.35L5.41 20z\"/>\n",
              "  </svg>\n",
              "      </button>\n",
              "      \n",
              "  <style>\n",
              "    .colab-df-container {\n",
              "      display:flex;\n",
              "      flex-wrap:wrap;\n",
              "      gap: 12px;\n",
              "    }\n",
              "\n",
              "    .colab-df-convert {\n",
              "      background-color: #E8F0FE;\n",
              "      border: none;\n",
              "      border-radius: 50%;\n",
              "      cursor: pointer;\n",
              "      display: none;\n",
              "      fill: #1967D2;\n",
              "      height: 32px;\n",
              "      padding: 0 0 0 0;\n",
              "      width: 32px;\n",
              "    }\n",
              "\n",
              "    .colab-df-convert:hover {\n",
              "      background-color: #E2EBFA;\n",
              "      box-shadow: 0px 1px 2px rgba(60, 64, 67, 0.3), 0px 1px 3px 1px rgba(60, 64, 67, 0.15);\n",
              "      fill: #174EA6;\n",
              "    }\n",
              "\n",
              "    [theme=dark] .colab-df-convert {\n",
              "      background-color: #3B4455;\n",
              "      fill: #D2E3FC;\n",
              "    }\n",
              "\n",
              "    [theme=dark] .colab-df-convert:hover {\n",
              "      background-color: #434B5C;\n",
              "      box-shadow: 0px 1px 3px 1px rgba(0, 0, 0, 0.15);\n",
              "      filter: drop-shadow(0px 1px 2px rgba(0, 0, 0, 0.3));\n",
              "      fill: #FFFFFF;\n",
              "    }\n",
              "  </style>\n",
              "\n",
              "      <script>\n",
              "        const buttonEl =\n",
              "          document.querySelector('#df-a6798913-9b54-4db6-b1dd-353a46aa76ed button.colab-df-convert');\n",
              "        buttonEl.style.display =\n",
              "          google.colab.kernel.accessAllowed ? 'block' : 'none';\n",
              "\n",
              "        async function convertToInteractive(key) {\n",
              "          const element = document.querySelector('#df-a6798913-9b54-4db6-b1dd-353a46aa76ed');\n",
              "          const dataTable =\n",
              "            await google.colab.kernel.invokeFunction('convertToInteractive',\n",
              "                                                     [key], {});\n",
              "          if (!dataTable) return;\n",
              "\n",
              "          const docLinkHtml = 'Like what you see? Visit the ' +\n",
              "            '<a target=\"_blank\" href=https://colab.research.google.com/notebooks/data_table.ipynb>data table notebook</a>'\n",
              "            + ' to learn more about interactive tables.';\n",
              "          element.innerHTML = '';\n",
              "          dataTable['output_type'] = 'display_data';\n",
              "          await google.colab.output.renderOutput(dataTable, element);\n",
              "          const docLink = document.createElement('div');\n",
              "          docLink.innerHTML = docLinkHtml;\n",
              "          element.appendChild(docLink);\n",
              "        }\n",
              "      </script>\n",
              "    </div>\n",
              "  </div>\n",
              "  "
            ],
            "text/plain": [
              "       Pregnancies     Glucose  ...         Age     Outcome\n",
              "count   768.000000  768.000000  ...  768.000000  768.000000\n",
              "mean      3.845052  120.894531  ...   33.240885    0.348958\n",
              "std       3.369578   31.972618  ...   11.760232    0.476951\n",
              "min       0.000000    0.000000  ...   21.000000    0.000000\n",
              "25%       1.000000   99.000000  ...   24.000000    0.000000\n",
              "50%       3.000000  117.000000  ...   29.000000    0.000000\n",
              "75%       6.000000  140.250000  ...   41.000000    1.000000\n",
              "max      17.000000  199.000000  ...   81.000000    1.000000\n",
              "\n",
              "[8 rows x 9 columns]"
            ]
          },
          "metadata": {},
          "execution_count": 6
        }
      ]
    },
    {
      "cell_type": "markdown",
      "source": [
        "Question 4: write a function that scale your features.\n",
        "`Hint:` $x'= \\dfrac{x-\\mu}{\\sigma}$ \n",
        "where $\\mu$ is the mean and $\\sigma$ the standard deviation of $x$."
      ],
      "metadata": {
        "id": "XLhl5xo2XpTi"
      }
    },
    {
      "cell_type": "code",
      "source": [
        "##### WRITE YOUR CODE HERE #####\n",
        "def scale(data):\n",
        "  return (data-data.mean(axis=0))/data.std(axis=0)\n",
        "#### END CODE ####"
      ],
      "metadata": {
        "id": "uHqEW65wXvNf"
      },
      "execution_count": 9,
      "outputs": []
    },
    {
      "cell_type": "markdown",
      "source": [
        "Question 5: Scale your features, except the target. "
      ],
      "metadata": {
        "id": "xHrdxls1Xx-6"
      }
    },
    {
      "cell_type": "code",
      "source": [
        "##### WRITE YOUR CODE HERE #####\n",
        "data.iloc[:,:-1]=scale(data.iloc[:,:-1])\n",
        "#### END CODE #### "
      ],
      "metadata": {
        "id": "dF2xJum5YAkM"
      },
      "execution_count": 17,
      "outputs": []
    },
    {
      "cell_type": "markdown",
      "source": [
        "Question 6: Write a function that split your (x,y) to (x_train, y_train) and (x_test, y_test).\n",
        "`Note:` This function must return an arrays."
      ],
      "metadata": {
        "id": "EaLTFVDPeeQp"
      }
    },
    {
      "cell_type": "code",
      "source": [
        "##### WRITE YOUR CODE HERE #####\n",
        "def split_data(df, train_percent= 0.8):\n",
        "  np.random.seed(2)\n",
        "  perm = np.random.permutation(df.index)\n",
        "\n",
        "  n= len(df)\n",
        "  train_index = int(train_percent * n)\n",
        "\n",
        "  train = df.iloc[perm[:train_index]]\n",
        "  test = df.iloc[perm[train_index:]]\n",
        "\n",
        "  x_train, x_test, y_train, y_test= train.iloc[:, :-1], test.iloc[:, :-1], train.iloc[:, -1], test.iloc[:, -1]\n",
        "  return x_train.values, x_test.values, y_train.values, y_test.values\n",
        "#### END CODE ####"
      ],
      "metadata": {
        "id": "4qE0hOeia1Xx"
      },
      "execution_count": 18,
      "outputs": []
    },
    {
      "cell_type": "code",
      "source": [
        "x_train, x_test, y_train, y_test= split_data(data) \n",
        "x_train.shape, y_train.shape, x_test.shape, y_test.shape"
      ],
      "metadata": {
        "id": "gApO25M7b4_0",
        "colab": {
          "base_uri": "https://localhost:8080/"
        },
        "outputId": "c45369b7-7719-432b-9962-abd9a96eb160"
      },
      "execution_count": 19,
      "outputs": [
        {
          "output_type": "execute_result",
          "data": {
            "text/plain": [
              "((614, 8), (614,), (154, 8), (154,))"
            ]
          },
          "metadata": {},
          "execution_count": 19
        }
      ]
    },
    {
      "cell_type": "markdown",
      "source": [
        "# Part 2: Logistic Regression without Regularization.\n",
        "\n",
        "## Recaps:\n",
        "1. Logistic/sigmoid function of $z$:\n",
        "\\begin{equation}\n",
        "g(z)= \\dfrac{1}{1+ exp(-z)}\n",
        "\\end{equation}\n",
        "where $z= x^t \\theta$ and $x, y \\in \\mathbb{R}^d$.\n",
        "2. Derivative of Logistic/sigmoid function with respective to $z$:\n",
        "\\begin{equation}\n",
        "dg(z)= g(z)(1-g(z))\n",
        "\\end{equation}\n",
        "3. Cross-entropy loss:\n",
        "\\begin{equation}\n",
        "l(\\theta)= -\\sum_{i= 1}^{N} \\left(y_{true} \\times \\log y_{pred} + (1-y_{true}) \\times \\log (1-y_{pred}) \\right)\n",
        "\\end{equation}\n",
        "where $y_{true}= g(z)$, $z= x^t \\theta$ and $y_{true}$ is the ground-truth for a given $x$.\n",
        "\n",
        "4. Derivative of Cross-entropy loss with respective to $\\theta$:\n",
        "\\begin{equation}\n",
        "dl(\\theta)= -\\sum_{i= 1}^{N} x^t\\left(y_{true} -y_{ped} \\right)\n",
        "\\end{equation}\n",
        "5. Apply Batch gradient descent to update $\\theta$.\n",
        "\n",
        "Question: Create a class called LogReg. See the description in the below cells.\n"
      ],
      "metadata": {
        "id": "-iHA8LO0dq05"
      }
    },
    {
      "cell_type": "code",
      "source": [
        "class logistic_regression:\n",
        "  def __init__(self,x_test,y_test,num_iters= 100, threshold= 0.5, tolerance= 1e-10, lr= 0.00001):\n",
        "    ##### WRITE YOUR CODE HERE #####\n",
        "    self.num_iters=num_iters\n",
        "    self.threshold=threshold\n",
        "    self.tolerance=tolerance\n",
        "    self.lr=lr\n",
        "    self.theta=None\n",
        "    self.cost_history=[]\n",
        "    self.cost_history_test=[]\n",
        "    self.x_test=x_test\n",
        "    self.y_test=y_test\n",
        "    #### END CODE ####\n",
        "\n",
        "  def add_ones(self, x):\n",
        "    ##### WRITE YOUR CODE HERE #####\n",
        "    x_new= np.concatenate([np.ones((x.shape[0],1)),x],axis=1)\n",
        "    return x_new\n",
        "    #### END CODE ####\n",
        "\n",
        "  def sigmoid(self, x, theta):\n",
        "    ##### WRITE YOUR CODE HERE #####\n",
        "\n",
        "    z= 1/(1+np.exp(-x@theta))\n",
        "    return z\n",
        "    #### END CODE ####\n",
        "\n",
        "  def cross_entropy(self, x, y_true):\n",
        "    ##### WRITE YOUR CODE HERE #####\n",
        "    n = x.shape[0] # Length of x\n",
        "    y_pred = self.sigmoid(x,self.theta)\n",
        "    Cost = -(y_true.T@np.log(y_pred)+(1-y_true).T@np.log((1-y_pred)))   \n",
        "    return Cost/n\n",
        "    #### END CODE ####\n",
        "  def plot(self):\n",
        "      plt.plot(self.cost_history,label='Train loss')\n",
        "      plt.plot(self.cost_history_test,label='Validation loss')\n",
        "      plt.xlabel('Epochs')\n",
        "      plt.ylabel('Cost')\n",
        "      plt.legend()\n",
        "      #### END CODE ####\n",
        "  def fit(self, x,y):\n",
        "    ##### WRITE YOUR CODE HERE #####\n",
        "    x= self.add_ones(x)\n",
        "    y= y.reshape(-1,1)\n",
        "    self.x_test=self.add_ones(self.x_test)\n",
        "    self.y_test=self.y_test.reshape(-1,1)\n",
        "    self.theta= np.zeros((x.shape[1],1)) # Initialize theta to zeros vector >>> (x.shape[1])\n",
        "    current_iter= 1\n",
        "    norm= 1\n",
        "\n",
        "    while (norm >= self.tolerance and current_iter < self.num_iters):\n",
        "      theta_old = self.theta.copy() # Get old theta\n",
        "\n",
        "      # make predictions\n",
        "      y_pred= self.sigmoid(x,self.theta) # using sigmoid function \n",
        "\n",
        "      # Gradient of cross-entropy\n",
        "      grad= -x.T@(y-y_pred)\n",
        "      grad= grad.reshape(-1,1) # Reshape, if it is needed\n",
        "\n",
        "      # update rules\n",
        "      self.theta= self.theta-self.lr*grad\n",
        "      # Compute the training loss\n",
        "      self.cost_history.append(self.cross_entropy(x,y)[0][0])\n",
        "      self.cost_history_test.append(self.cross_entropy(self.x_test,self.y_test)[0][0])\n",
        "      # Convergence criteria:\n",
        "      if current_iter%100 == 0:\n",
        "        print(f'cost for {current_iter} iteration : {self.cross_entropy(x, y)[0][0]}')\n",
        "      norm = np.linalg.norm(theta_old - self.theta)\n",
        "      current_iter += 1\n",
        "\n",
        "  \n",
        "    def predict(self, x):\n",
        "      proba= self.predict_proba(x) # Get probability of x\n",
        "      result= [np.round(i) for i in proba]  # Convert proba to 0 or 1. hint: list comprehension\n",
        "      return  result\n",
        "\n",
        "    def predict_proba(self, x):\n",
        "      x= self.add_ones(x) # Apply add ones to x\n",
        "      y_pred_prob=self.sigmoid(x,self.theta) # Predict proba with sigmoid\n",
        "      return y_pred_prob\n",
        "    \n",
        "    "
      ],
      "metadata": {
        "id": "fcwOt19ygOVu"
      },
      "execution_count": 188,
      "outputs": []
    },
    {
      "cell_type": "code",
      "source": [
        "# Create a model by instanciating the class logistic_regression\n",
        "model = logistic_regression(x_test,y_test,num_iters=10000)"
      ],
      "metadata": {
        "id": "PyAKBcDvgOYg"
      },
      "execution_count": 189,
      "outputs": []
    },
    {
      "cell_type": "code",
      "source": [
        "%%time\n",
        "model.fit(x_train, y_train)"
      ],
      "metadata": {
        "colab": {
          "base_uri": "https://localhost:8080/"
        },
        "id": "NdezNg1egOb9",
        "outputId": "4d6d9af6-8fd8-4745-9c81-661e596b3cca"
      },
      "execution_count": 190,
      "outputs": [
        {
          "output_type": "stream",
          "name": "stdout",
          "text": [
            "cost for 100 iteration : 0.6362373605032056\n",
            "cost for 200 iteration : 0.5988470249186554\n",
            "cost for 300 iteration : 0.5731266601190667\n",
            "cost for 400 iteration : 0.55465961189875\n",
            "cost for 500 iteration : 0.5409170138988207\n",
            "cost for 600 iteration : 0.5303898928558933\n",
            "cost for 700 iteration : 0.5221361975391885\n",
            "cost for 800 iteration : 0.5155423018805115\n",
            "cost for 900 iteration : 0.5101931110081553\n",
            "cost for 1000 iteration : 0.5057984298137362\n",
            "cost for 1100 iteration : 0.5021495355459176\n",
            "cost for 1200 iteration : 0.49909259434535136\n",
            "cost for 1300 iteration : 0.49651182432058544\n",
            "cost for 1400 iteration : 0.494318496615896\n",
            "cost for 1500 iteration : 0.4924435467133995\n",
            "cost for 1600 iteration : 0.4908324847043871\n",
            "cost for 1700 iteration : 0.489441809331206\n",
            "cost for 1800 iteration : 0.4882364300560567\n",
            "cost for 1900 iteration : 0.4871877801040583\n",
            "cost for 2000 iteration : 0.48627241286696055\n",
            "cost for 2100 iteration : 0.485470942723045\n",
            "cost for 2200 iteration : 0.48476723539985783\n",
            "cost for 2300 iteration : 0.48414778189201113\n",
            "cost for 2400 iteration : 0.48360120925328887\n",
            "cost for 2500 iteration : 0.4831178947242058\n",
            "cost for 2600 iteration : 0.4826896587540938\n",
            "cost for 2700 iteration : 0.4823095188744711\n",
            "cost for 2800 iteration : 0.4819714909448642\n",
            "cost for 2900 iteration : 0.48167042759244216\n",
            "cost for 3000 iteration : 0.481401886082462\n",
            "cost for 3100 iteration : 0.4811620196448118\n",
            "cost for 3200 iteration : 0.48094748761967093\n",
            "cost for 3300 iteration : 0.4807553807956447\n",
            "cost for 3400 iteration : 0.4805831590835999\n",
            "cost for 3500 iteration : 0.480428599260872\n",
            "cost for 3600 iteration : 0.4802897509783642\n",
            "cost for 3700 iteration : 0.48016489957997954\n",
            "cost for 3800 iteration : 0.48005253456392233\n",
            "cost for 3900 iteration : 0.4799513227365528\n",
            "cost for 4000 iteration : 0.47986008528510443\n",
            "cost for 4100 iteration : 0.479777778135803\n",
            "cost for 4200 iteration : 0.4797034750764696\n",
            "cost for 4300 iteration : 0.479636353213456\n",
            "cost for 4400 iteration : 0.4795756804062963\n",
            "cost for 4500 iteration : 0.47952080438330424\n",
            "cost for 4600 iteration : 0.4794711432902505\n",
            "cost for 4700 iteration : 0.4794261774643717\n",
            "cost for 4800 iteration : 0.47938544225902235\n",
            "cost for 4900 iteration : 0.47934852177158616\n",
            "cost for 5000 iteration : 0.47931504334994035\n",
            "cost for 5100 iteration : 0.4792846727716249\n",
            "cost for 5200 iteration : 0.4792571100056271\n",
            "cost for 5300 iteration : 0.4792320854798967\n",
            "cost for 5400 iteration : 0.47920935678879667\n",
            "cost for 5500 iteration : 0.4791887057840449\n",
            "cost for 5600 iteration : 0.4791699360006103\n",
            "cost for 5700 iteration : 0.4791528703757207\n",
            "cost for 5800 iteration : 0.4791373492248334\n",
            "cost for 5900 iteration : 0.4791232284432731\n",
            "cost for 6000 iteration : 0.47911037790637934\n",
            "cost for 6100 iteration : 0.4790986800445573\n",
            "cost for 6200 iteration : 0.47908802857266464\n",
            "cost for 6300 iteration : 0.4790783273557897\n",
            "cost for 6400 iteration : 0.47906948939572974\n",
            "cost for 6500 iteration : 0.4790614359244258\n",
            "cost for 6600 iteration : 0.479054095592303\n",
            "cost for 6700 iteration : 0.47904740374092\n",
            "cost for 6800 iteration : 0.47904130175061016\n",
            "cost for 6900 iteration : 0.4790357364548973\n",
            "cost for 7000 iteration : 0.4790306596144363\n",
            "cost for 7100 iteration : 0.479026027444071\n",
            "cost for 7200 iteration : 0.4790218001873391\n",
            "cost for 7300 iteration : 0.4790179417333983\n",
            "cost for 7400 iteration : 0.4790144192719182\n",
            "cost for 7500 iteration : 0.47901120298197575\n",
            "cost for 7600 iteration : 0.4790082657514358\n",
            "cost for 7700 iteration : 0.4790055829236824\n",
            "cost for 7800 iteration : 0.4790031320689062\n",
            "cost for 7900 iteration : 0.4790008927774587\n",
            "cost for 8000 iteration : 0.47899884647304913\n",
            "cost for 8100 iteration : 0.478996976243793\n",
            "cost for 8200 iteration : 0.47899526668933845\n",
            "cost for 8300 iteration : 0.4789937037824756\n",
            "cost for 8400 iteration : 0.4789922747438025\n",
            "cost for 8500 iteration : 0.4789909679281697\n",
            "cost for 8600 iteration : 0.4789897727217549\n",
            "cost for 8700 iteration : 0.47898867944873735\n",
            "cost for 8800 iteration : 0.4789876792866441\n",
            "cost for 8900 iteration : 0.47898676418953695\n",
            "cost for 9000 iteration : 0.4789859268182888\n",
            "cost for 9100 iteration : 0.4789851604772742\n",
            "cost for 9200 iteration : 0.4789844590568679\n",
            "cost for 9300 iteration : 0.4789838169811986\n",
            "cost for 9400 iteration : 0.4789832291606697\n",
            "cost for 9500 iteration : 0.4789826909487933\n",
            "cost for 9600 iteration : 0.4789821981029402\n",
            "cost for 9700 iteration : 0.47898174674863797\n",
            "cost for 9800 iteration : 0.4789813333470905\n",
            "cost for 9900 iteration : 0.4789809546656181\n",
            "CPU times: user 1.66 s, sys: 21.1 ms, total: 1.68 s\n",
            "Wall time: 1.67 s\n"
          ]
        }
      ]
    },
    {
      "cell_type": "code",
      "source": [
        "pred= model.predict(x_test)"
      ],
      "metadata": {
        "id": "Hd53qQiibYwa"
      },
      "execution_count": null,
      "outputs": []
    },
    {
      "cell_type": "code",
      "source": [
        "pred"
      ],
      "metadata": {
        "colab": {
          "base_uri": "https://localhost:8080/"
        },
        "id": "3izqcnB6Tm4R",
        "outputId": "6aa653cc-dceb-4687-9014-9dd3acb9d76f"
      },
      "execution_count": null,
      "outputs": [
        {
          "output_type": "execute_result",
          "data": {
            "text/plain": [
              "array([0, 0, 0, 0, 1, 1, 0, 0, 0, 0, 0, 0, 1, 0, 1, 0, 0, 0, 0, 0, 0, 0,\n",
              "       0, 0, 0, 1, 0, 0, 0, 0, 0, 1, 0, 0, 0, 0, 1, 0, 0, 1, 0, 0, 1, 1,\n",
              "       0, 0, 0, 1, 0, 0, 0, 1, 1, 0, 0, 0, 0, 1, 0, 1, 1, 0, 0, 0, 0, 0,\n",
              "       0, 0, 0, 1, 1, 1, 0, 0, 0, 0, 1, 1, 0, 1, 1, 0, 0, 0, 0, 1, 1, 0,\n",
              "       0, 0, 0, 0, 0, 0, 0, 0, 1, 0, 0, 1, 0, 1, 0, 0, 0, 1, 1, 1, 1, 0,\n",
              "       1, 0, 0, 0, 1, 0, 1, 0, 0, 0, 1, 1, 0, 1, 0, 0, 1, 0, 1, 0, 0, 1,\n",
              "       0, 0, 0, 1, 0, 0, 0, 0, 0, 0, 0, 0, 1, 1, 0, 0, 0, 0, 0, 0, 0, 0])"
            ]
          },
          "metadata": {},
          "execution_count": 88
        }
      ]
    },
    {
      "cell_type": "code",
      "source": [
        "# Predict Proba\n",
        "print(model.predict_proba(x_test))"
      ],
      "metadata": {
        "id": "8PozH_SWVTI5",
        "colab": {
          "base_uri": "https://localhost:8080/"
        },
        "outputId": "c42fb4d8-1a99-44ef-f0dd-8134358b62a6"
      },
      "execution_count": null,
      "outputs": [
        {
          "output_type": "stream",
          "name": "stdout",
          "text": [
            "[[0.0621]\n",
            " [0.1436]\n",
            " [0.1677]\n",
            " [0.0565]\n",
            " [0.6866]\n",
            " [0.5908]\n",
            " [0.2401]\n",
            " [0.2425]\n",
            " [0.0385]\n",
            " [0.1886]\n",
            " [0.0447]\n",
            " [0.3099]\n",
            " [0.6544]\n",
            " [0.0178]\n",
            " [0.6413]\n",
            " [0.0529]\n",
            " [0.3717]\n",
            " [0.494 ]\n",
            " [0.3416]\n",
            " [0.0737]\n",
            " [0.271 ]\n",
            " [0.4752]\n",
            " [0.4347]\n",
            " [0.192 ]\n",
            " [0.2511]\n",
            " [0.804 ]\n",
            " [0.1115]\n",
            " [0.4247]\n",
            " [0.4134]\n",
            " [0.207 ]\n",
            " [0.0308]\n",
            " [0.9211]\n",
            " [0.0705]\n",
            " [0.4055]\n",
            " [0.0706]\n",
            " [0.4636]\n",
            " [0.7279]\n",
            " [0.4458]\n",
            " [0.1158]\n",
            " [0.9547]\n",
            " [0.0936]\n",
            " [0.2659]\n",
            " [0.8375]\n",
            " [0.9143]\n",
            " [0.2087]\n",
            " [0.0789]\n",
            " [0.2372]\n",
            " [0.7176]\n",
            " [0.4112]\n",
            " [0.3573]\n",
            " [0.2549]\n",
            " [0.677 ]\n",
            " [0.7355]\n",
            " [0.0229]\n",
            " [0.4227]\n",
            " [0.1864]\n",
            " [0.304 ]\n",
            " [0.7764]\n",
            " [0.143 ]\n",
            " [0.9133]\n",
            " [0.9494]\n",
            " [0.3878]\n",
            " [0.1288]\n",
            " [0.0699]\n",
            " [0.1692]\n",
            " [0.0835]\n",
            " [0.0611]\n",
            " [0.0546]\n",
            " [0.3898]\n",
            " [0.5423]\n",
            " [0.5947]\n",
            " [0.5072]\n",
            " [0.0057]\n",
            " [0.0165]\n",
            " [0.1788]\n",
            " [0.0876]\n",
            " [0.9268]\n",
            " [0.8461]\n",
            " [0.2378]\n",
            " [0.8072]\n",
            " [0.5071]\n",
            " [0.0742]\n",
            " [0.0381]\n",
            " [0.4086]\n",
            " [0.2687]\n",
            " [0.8279]\n",
            " [0.7836]\n",
            " [0.2676]\n",
            " [0.1783]\n",
            " [0.0875]\n",
            " [0.0528]\n",
            " [0.0772]\n",
            " [0.1533]\n",
            " [0.2506]\n",
            " [0.1097]\n",
            " [0.0481]\n",
            " [0.8506]\n",
            " [0.3916]\n",
            " [0.0769]\n",
            " [0.7196]\n",
            " [0.0705]\n",
            " [0.6671]\n",
            " [0.1556]\n",
            " [0.1056]\n",
            " [0.42  ]\n",
            " [0.8467]\n",
            " [0.7172]\n",
            " [0.7724]\n",
            " [0.619 ]\n",
            " [0.0348]\n",
            " [0.7504]\n",
            " [0.0942]\n",
            " [0.4437]\n",
            " [0.024 ]\n",
            " [0.501 ]\n",
            " [0.2663]\n",
            " [0.5537]\n",
            " [0.3205]\n",
            " [0.2166]\n",
            " [0.099 ]\n",
            " [0.7486]\n",
            " [0.7353]\n",
            " [0.2164]\n",
            " [0.6824]\n",
            " [0.2107]\n",
            " [0.0938]\n",
            " [0.7995]\n",
            " [0.1042]\n",
            " [0.8241]\n",
            " [0.0852]\n",
            " [0.0641]\n",
            " [0.6288]\n",
            " [0.0594]\n",
            " [0.4169]\n",
            " [0.146 ]\n",
            " [0.7145]\n",
            " [0.2228]\n",
            " [0.4345]\n",
            " [0.0417]\n",
            " [0.3613]\n",
            " [0.1079]\n",
            " [0.0349]\n",
            " [0.2011]\n",
            " [0.4244]\n",
            " [0.5442]\n",
            " [0.7288]\n",
            " [0.0026]\n",
            " [0.034 ]\n",
            " [0.3493]\n",
            " [0.1333]\n",
            " [0.2505]\n",
            " [0.4209]\n",
            " [0.0911]\n",
            " [0.2334]]\n"
          ]
        }
      ]
    },
    {
      "cell_type": "code",
      "source": [
        "model.plot()"
      ],
      "metadata": {
        "colab": {
          "base_uri": "https://localhost:8080/",
          "height": 280
        },
        "id": "iKjM9LqgLFxp",
        "outputId": "84777355-46bb-47fb-eebd-ee88d28fd430"
      },
      "execution_count": 191,
      "outputs": [
        {
          "output_type": "display_data",
          "data": {
            "image/png": "[encoded data removed]",
            "text/plain": [
              "<Figure size 432x288 with 1 Axes>"
            ]
          },
          "metadata": {
            "needs_background": "light"
          }
        }
      ]
    },
    {
      "cell_type": "markdown",
      "source": [
        "## Push your works to Githup Repo\n",
        "\n",
        "Setps:\n",
        "1. Fork the repo: `https://github.com/AMMI-2022/test-live-coding`\n",
        "2. Clone in your colab;\n",
        "3. Push\n",
        "4. Make a pull request"
      ],
      "metadata": {
        "id": "7pyf_N6pOCK5"
      }
    },
    {
      "cell_type": "markdown",
      "source": [
        "Set your credential"
      ],
      "metadata": {
        "id": "2S-a49qmeUGp"
      }
    },
    {
      "cell_type": "code",
      "source": [
        "my_token= \"\"\n",
        "my_repository= \"https://github.com/Annanmetiki/AMMI.git\"\n",
        "username= \"\"\n",
        "useremail= \"Annanmetiki\""
      ],
      "metadata": {
        "id": "ECo9DTv9PfNU"
      },
      "execution_count": null,
      "outputs": []
    },
    {
      "cell_type": "markdown",
      "source": [
        "Clone the repo"
      ],
      "metadata": {
        "id": "pTUr6f9JeWiG"
      }
    },
    {
      "cell_type": "code",
      "source": [
        "! git clone https://github.com/{username}/{my_repository}.git"
      ],
      "metadata": {
        "id": "EQhDd_U_PfRm"
      },
      "execution_count": null,
      "outputs": []
    },
    {
      "cell_type": "code",
      "source": [
        "! git remote -v"
      ],
      "metadata": {
        "id": "Uv69w1Bfe0i3"
      },
      "execution_count": null,
      "outputs": []
    },
    {
      "cell_type": "markdown",
      "source": [
        "Copy data to test-live-coding folder"
      ],
      "metadata": {
        "id": "Kse_ZT1henjR"
      }
    },
    {
      "cell_type": "code",
      "source": [
        "!cp diabetes.csv /content/test-live-coding"
      ],
      "metadata": {
        "id": "AS207mQ3PfTp"
      },
      "execution_count": null,
      "outputs": []
    },
    {
      "cell_type": "code",
      "source": [
        "%cd /content/test-live-coding"
      ],
      "metadata": {
        "id": "ua0-f8gFPfXu"
      },
      "execution_count": null,
      "outputs": []
    },
    {
      "cell_type": "code",
      "source": [
        "!git status"
      ],
      "metadata": {
        "id": "S0SNgpwZPfsk"
      },
      "execution_count": null,
      "outputs": []
    },
    {
      "cell_type": "code",
      "source": [
        "!git config user.email useremail\n",
        "!git config user.name username"
      ],
      "metadata": {
        "id": "331HWnMJeuSN"
      },
      "execution_count": null,
      "outputs": []
    },
    {
      "cell_type": "code",
      "source": [
        "!git add .\n",
        "!git commit -m \"Add my files\""
      ],
      "metadata": {
        "id": "XIkRAG99fUGf"
      },
      "execution_count": null,
      "outputs": []
    },
    {
      "cell_type": "code",
      "source": [
        "!git status"
      ],
      "metadata": {
        "id": "kK8TdaCifXJ-"
      },
      "execution_count": null,
      "outputs": []
    },
    {
      "cell_type": "code",
      "source": [
        "!git push -u origin master --force"
      ],
      "metadata": {
        "id": "gObs-0HjeuV8"
      },
      "execution_count": null,
      "outputs": []
    },
    {
      "cell_type": "markdown",
      "source": [
        "# If you cannot push, use:"
      ],
      "metadata": {
        "id": "niOB3_vIe5n7"
      }
    },
    {
      "cell_type": "code",
      "source": [
        "!git remote rm origin"
      ],
      "metadata": {
        "id": "XCRZgbm8e_1f"
      },
      "execution_count": null,
      "outputs": []
    },
    {
      "cell_type": "code",
      "source": [
        "!git remote add origin https://{my_token}@github.com/{username}/{my_repository}.git\n",
        "!git remote -v"
      ],
      "metadata": {
        "id": "61psHyK3fCRM"
      },
      "execution_count": null,
      "outputs": []
    },
    {
      "cell_type": "code",
      "source": [
        "!git push -u origin master --force"
      ],
      "metadata": {
        "id": "c0sQOc7ffCYP"
      },
      "execution_count": null,
      "outputs": []
    },
    {
      "cell_type": "markdown",
      "source": [
        "---\n",
        "\n",
        "\n",
        "\n",
        "---\n",
        "\n",
        "\n",
        "\n",
        "---"
      ],
      "metadata": {
        "id": "C0hWgk1XMjl-"
      }
    },
    {
      "cell_type": "markdown",
      "source": [
        "# Assignment\n",
        "\n",
        "Just follow the class logistic_regression, try to implement Logistic regression with `l1`, `l2` and `l1-l2`. That we call respectively `Lasso (least absolute shrinkage and selection operator)`, `Ridge` and `ElasticNet`.\n",
        "Given cross-entropy:\n",
        "\\begin{equation}\n",
        "  l(θ)= -\\sum_{i= 1}^{N} \\left(y_{true} \\times \\log y_{pred} + (1-y_{true}) \\times \\log (1-y_{pred}) \\right)\n",
        "\\end{equation}\n",
        "\n",
        "1. l1-regularization (LASSO):\n",
        "\n",
        "\\begin{equation}\n",
        "   l(θ) + λ\\| \\theta\\|_1\n",
        "\\end{equation}\n",
        "\n",
        "\n",
        "2. l2-regularization (Ridge):\n",
        "\\begin{equation}\n",
        "   l(θ)+ λ\\| \\theta\\|_2\n",
        "\\end{equation}\n",
        "\n",
        "3. l1-l2-regularization (ElasticNet):\n",
        "\\begin{equation}\n",
        "  l(θ) + λ_1\\| \\theta\\|_1 + λ_2\\| \\theta\\|_2\n",
        "\\end{equation}\n",
        "\n",
        "`Note: please use mini-batch as learning algorithm`"
      ],
      "metadata": {
        "id": "9WIvYaFRTEOo"
      }
    },
    {
      "cell_type": "code",
      "source": [
        "class logistic_regression_l1:\n",
        "  pass"
      ],
      "metadata": {
        "id": "oru7W5P6FNyh"
      },
      "execution_count": null,
      "outputs": []
    },
    {
      "cell_type": "code",
      "source": [
        "class logistic_regression_l2:\n",
        "  pass"
      ],
      "metadata": {
        "id": "Q4MuLTNNT5qE"
      },
      "execution_count": null,
      "outputs": []
    },
    {
      "cell_type": "code",
      "source": [
        "class logistic_regression_l1_l2:\n",
        "  pass"
      ],
      "metadata": {
        "id": "vnHpkvRIT71Z"
      },
      "execution_count": null,
      "outputs": []
    },
    {
      "cell_type": "markdown",
      "source": [
        "# Concepts [Assignment]:\n",
        "1. Why there is no close form for cross-entropy loss?\n",
        "2. Why we need cross-entropy loss instead of mse?\n",
        "3. Why is logistic regression a type of classification technique and not a regression?"
      ],
      "metadata": {
        "id": "jqSi--hEpa9N"
      }
    },
    {
      "cell_type": "code",
      "source": [
        ""
      ],
      "metadata": {
        "id": "3IPn0NYZrUdP"
      },
      "execution_count": null,
      "outputs": []
    }
  ]
}