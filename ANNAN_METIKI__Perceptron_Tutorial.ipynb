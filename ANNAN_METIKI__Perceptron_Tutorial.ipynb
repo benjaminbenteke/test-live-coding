{
  "cells": [
    {
      "cell_type": "markdown",
      "metadata": {
        "id": "view-in-github",
        "colab_type": "text"
      },
      "source": [
        "<a href=\"https://colab.research.google.com/github/Annanmetiki/test-live-coding/blob/master/ANNAN_METIKI__Perceptron_Tutorial.ipynb\" target=\"_parent\"><img src=\"https://colab.research.google.com/assets/colab-badge.svg\" alt=\"Open In Colab\"/></a>"
      ]
    },
    {
      "cell_type": "markdown",
      "source": [
        "## Please make a copy of the notebook before you start updating it."
      ],
      "metadata": {
        "id": "h0Cu9Drja8Ws"
      }
    },
    {
      "cell_type": "markdown",
      "source": [
        "# Import libraries and load the data from sklearn dataset"
      ],
      "metadata": {
        "id": "aOJufAT477Vz"
      }
    },
    {
      "cell_type": "code",
      "execution_count": 1,
      "metadata": {
        "id": "VhoY8C6aa5HT"
      },
      "outputs": [],
      "source": [
        " ### Import packages\n",
        "\n",
        "import numpy as np\n",
        "import matplotlib.pyplot as plt\n",
        "from sklearn.datasets import load_iris"
      ]
    },
    {
      "cell_type": "code",
      "execution_count": 2,
      "metadata": {
        "id": "d5HcWRp0a5HX"
      },
      "outputs": [],
      "source": [
        "### Import datasets from sklearn.datasets\n",
        "data = load_iris()"
      ]
    },
    {
      "cell_type": "code",
      "execution_count": 3,
      "metadata": {
        "id": "radjgNPta5HX"
      },
      "outputs": [],
      "source": [
        "#### Target \n",
        "\n",
        "target = data.target"
      ]
    },
    {
      "cell_type": "code",
      "execution_count": 4,
      "metadata": {
        "id": "b4XAj5Rta5HY"
      },
      "outputs": [],
      "source": [
        "### Count the number of uniques values\n",
        "\n",
        "N_= np.unique(target)"
      ]
    },
    {
      "cell_type": "code",
      "execution_count": 5,
      "metadata": {
        "colab": {
          "base_uri": "https://localhost:8080/"
        },
        "id": "SRvdDUEra5HY",
        "outputId": "9b0ee0da-b979-4728-e575-6f920248ed5c"
      },
      "outputs": [
        {
          "output_type": "stream",
          "name": "stdout",
          "text": [
            "the unique values in the targets are [0 1 2]\n"
          ]
        }
      ],
      "source": [
        "print('the unique values in the targets are', N_)"
      ]
    },
    {
      "cell_type": "code",
      "execution_count": 6,
      "metadata": {
        "colab": {
          "base_uri": "https://localhost:8080/"
        },
        "id": "l4qtWQzna5HZ",
        "outputId": "0b3eb7f6-bc9d-4c50-8037-529b402b5e44"
      },
      "outputs": [
        {
          "output_type": "execute_result",
          "data": {
            "text/plain": [
              "(150,)"
            ]
          },
          "metadata": {},
          "execution_count": 6
        }
      ],
      "source": [
        "target.shape"
      ]
    },
    {
      "cell_type": "code",
      "source": [
        "import pandas as pd"
      ],
      "metadata": {
        "id": "7GougQLNewYg"
      },
      "execution_count": 9,
      "outputs": []
    },
    {
      "cell_type": "code",
      "source": [
        "data.target[data.target!=2]"
      ],
      "metadata": {
        "colab": {
          "base_uri": "https://localhost:8080/"
        },
        "id": "B-5U6TOqemMj",
        "outputId": "5cdd5613-7f39-40fb-d260-10949093b1b5"
      },
      "execution_count": 11,
      "outputs": [
        {
          "output_type": "execute_result",
          "data": {
            "text/plain": [
              "array([0, 0, 0, 0, 0, 0, 0, 0, 0, 0, 0, 0, 0, 0, 0, 0, 0, 0, 0, 0, 0, 0,\n",
              "       0, 0, 0, 0, 0, 0, 0, 0, 0, 0, 0, 0, 0, 0, 0, 0, 0, 0, 0, 0, 0, 0,\n",
              "       0, 0, 0, 0, 0, 0, 1, 1, 1, 1, 1, 1, 1, 1, 1, 1, 1, 1, 1, 1, 1, 1,\n",
              "       1, 1, 1, 1, 1, 1, 1, 1, 1, 1, 1, 1, 1, 1, 1, 1, 1, 1, 1, 1, 1, 1,\n",
              "       1, 1, 1, 1, 1, 1, 1, 1, 1, 1, 1, 1])"
            ]
          },
          "metadata": {},
          "execution_count": 11
        }
      ]
    },
    {
      "cell_type": "markdown",
      "source": [
        "## Remove the class 2 in our dataset in order to have a binary classification problem"
      ],
      "metadata": {
        "id": "FwLb63ZQ8Spu"
      }
    },
    {
      "cell_type": "code",
      "execution_count": 12,
      "metadata": {
        "id": "gOL6z-Qqa5Ha"
      },
      "outputs": [],
      "source": [
        "##############\n",
        "y = data.target[data.target!=2]\n",
        "#######"
      ]
    },
    {
      "cell_type": "code",
      "execution_count": 13,
      "metadata": {
        "id": "QRFOsXyQa5Ha",
        "outputId": "8ec46b2b-d8a1-4d12-97b0-20e21245ca71",
        "colab": {
          "base_uri": "https://localhost:8080/"
        }
      },
      "outputs": [
        {
          "output_type": "execute_result",
          "data": {
            "text/plain": [
              "(100,)"
            ]
          },
          "metadata": {},
          "execution_count": 13
        }
      ],
      "source": [
        "y.shape"
      ]
    },
    {
      "cell_type": "code",
      "execution_count": 14,
      "metadata": {
        "id": "0EOcinLHa5Hb",
        "outputId": "e2aa96db-df22-41fa-d578-5a096447878d",
        "colab": {
          "base_uri": "https://localhost:8080/"
        }
      },
      "outputs": [
        {
          "output_type": "execute_result",
          "data": {
            "text/plain": [
              "array([0, 0, 0, 0, 0, 0, 0, 0, 0, 0, 0, 0, 0, 0, 0, 0, 0, 0, 0, 0, 0, 0,\n",
              "       0, 0, 0, 0, 0, 0, 0, 0, 0, 0, 0, 0, 0, 0, 0, 0, 0, 0, 0, 0, 0, 0,\n",
              "       0, 0, 0, 0, 0, 0, 1, 1, 1, 1, 1, 1, 1, 1, 1, 1, 1, 1, 1, 1, 1, 1,\n",
              "       1, 1, 1, 1, 1, 1, 1, 1, 1, 1, 1, 1, 1, 1, 1, 1, 1, 1, 1, 1, 1, 1,\n",
              "       1, 1, 1, 1, 1, 1, 1, 1, 1, 1, 1, 1])"
            ]
          },
          "metadata": {},
          "execution_count": 14
        }
      ],
      "source": [
        "y"
      ]
    },
    {
      "cell_type": "markdown",
      "source": [
        "## Replace all 0 in the target by -1 using numpy"
      ],
      "metadata": {
        "id": "yQ_xeoyJ0VWd"
      }
    },
    {
      "cell_type": "code",
      "execution_count": 18,
      "metadata": {
        "id": "dfeM2mVta5Hb"
      },
      "outputs": [],
      "source": [
        "#############\n",
        "y=np.where(y==0,-1,y)\n",
        "###########"
      ]
    },
    {
      "cell_type": "code",
      "execution_count": 21,
      "metadata": {
        "id": "M1g4Vb4za5Hb",
        "outputId": "ec63139f-31a1-4b37-fd06-d5082814b4e8",
        "colab": {
          "base_uri": "https://localhost:8080/"
        }
      },
      "outputs": [
        {
          "output_type": "execute_result",
          "data": {
            "text/plain": [
              "array([-1, -1, -1, -1, -1, -1, -1, -1, -1, -1, -1, -1, -1, -1, -1, -1, -1,\n",
              "       -1, -1, -1, -1, -1, -1, -1, -1, -1, -1, -1, -1, -1, -1, -1, -1, -1,\n",
              "       -1, -1, -1, -1, -1, -1, -1, -1, -1, -1, -1, -1, -1, -1, -1, -1,  1,\n",
              "        1,  1,  1,  1,  1,  1,  1,  1,  1,  1,  1,  1,  1,  1,  1,  1,  1,\n",
              "        1,  1,  1,  1,  1,  1,  1,  1,  1,  1,  1,  1,  1,  1,  1,  1,  1,\n",
              "        1,  1,  1,  1,  1,  1,  1,  1,  1,  1,  1,  1,  1,  1,  1])"
            ]
          },
          "metadata": {},
          "execution_count": 21
        }
      ],
      "source": [
        "y"
      ]
    },
    {
      "cell_type": "code",
      "execution_count": 48,
      "metadata": {
        "id": "Zj8C-cD_a5Hb"
      },
      "outputs": [],
      "source": [
        "### Inputs values\n",
        "Inputs = data.data"
      ]
    },
    {
      "cell_type": "code",
      "execution_count": 49,
      "metadata": {
        "colab": {
          "base_uri": "https://localhost:8080/"
        },
        "id": "PMF4LKb_a5Hc",
        "outputId": "6b2d63ac-8055-454f-ffae-bdf378d6a0e5"
      },
      "outputs": [
        {
          "output_type": "execute_result",
          "data": {
            "text/plain": [
              "(150, 4)"
            ]
          },
          "metadata": {},
          "execution_count": 49
        }
      ],
      "source": [
        "Inputs.shape"
      ]
    },
    {
      "cell_type": "markdown",
      "source": [
        "## Let's remove the last 50 rows in the inputs data (they belong to the class 2)"
      ],
      "metadata": {
        "id": "VjV5d0ZX0vEp"
      }
    },
    {
      "cell_type": "code",
      "execution_count": 50,
      "metadata": {
        "id": "y3xruEHZa5Hc"
      },
      "outputs": [],
      "source": [
        "#### New Input\n",
        "X = Inputs[:100,:]"
      ]
    },
    {
      "cell_type": "code",
      "execution_count": 51,
      "metadata": {
        "id": "hDg4AQUza5Hd",
        "outputId": "79a7312a-c81a-4b76-bb38-3be029c39aef",
        "colab": {
          "base_uri": "https://localhost:8080/"
        }
      },
      "outputs": [
        {
          "output_type": "execute_result",
          "data": {
            "text/plain": [
              "(100, 4)"
            ]
          },
          "metadata": {},
          "execution_count": 51
        }
      ],
      "source": [
        "X.shape"
      ]
    },
    {
      "cell_type": "code",
      "source": [
        "plt.scatter(X[:, 0], y)"
      ],
      "metadata": {
        "colab": {
          "base_uri": "https://localhost:8080/",
          "height": 282
        },
        "id": "RNrh-r0xEzPV",
        "outputId": "2f9bfe04-9a53-498f-9828-6a77359d9f9a"
      },
      "execution_count": 47,
      "outputs": [
        {
          "output_type": "execute_result",
          "data": {
            "text/plain": [
              "<matplotlib.collections.PathCollection at 0x7f5bd3157490>"
            ]
          },
          "metadata": {},
          "execution_count": 47
        },
        {
          "output_type": "display_data",
          "data": {
            "image/png": "[encoded data removed]",
            "text/plain": [
              "<Figure size 432x288 with 1 Axes>"
            ]
          },
          "metadata": {
            "needs_background": "light"
          }
        }
      ]
    },
    {
      "cell_type": "markdown",
      "source": [
        "## Combines the dataset and Shuffle them using numpy"
      ],
      "metadata": {
        "id": "V15p2I-D1P-X"
      }
    },
    {
      "cell_type": "code",
      "execution_count": 56,
      "metadata": {
        "id": "-2LXYdI4a5Hd",
        "colab": {
          "base_uri": "https://localhost:8080/"
        },
        "outputId": "f41cfdbe-c4a2-457b-ef93-07416ed6ed75"
      },
      "outputs": [
        {
          "output_type": "execute_result",
          "data": {
            "text/plain": [
              "array([[ 5. ,  2.3,  3.3,  1. ,  1. ],\n",
              "       [ 5.8,  2.7,  4.1,  1. ,  1. ],\n",
              "       [ 4.6,  3.4,  1.4,  0.3, -1. ],\n",
              "       [ 5.6,  2.9,  3.6,  1.3,  1. ],\n",
              "       [ 5.7,  2.9,  4.2,  1.3,  1. ],\n",
              "       [ 6. ,  2.7,  5.1,  1.6,  1. ],\n",
              "       [ 5.1,  2.5,  3. ,  1.1,  1. ],\n",
              "       [ 4.4,  3.2,  1.3,  0.2, -1. ],\n",
              "       [ 5. ,  3. ,  1.6,  0.2, -1. ],\n",
              "       [ 5.7,  4.4,  1.5,  0.4, -1. ],\n",
              "       [ 6.7,  3. ,  5. ,  1.7,  1. ],\n",
              "       [ 4.9,  3.1,  1.5,  0.1, -1. ],\n",
              "       [ 6.1,  2.8,  4. ,  1.3,  1. ],\n",
              "       [ 6.2,  2.9,  4.3,  1.3,  1. ],\n",
              "       [ 4.9,  3.1,  1.5,  0.2, -1. ],\n",
              "       [ 6.6,  3. ,  4.4,  1.4,  1. ],\n",
              "       [ 5.8,  2.7,  3.9,  1.2,  1. ],\n",
              "       [ 5.1,  3.3,  1.7,  0.5, -1. ],\n",
              "       [ 5.2,  2.7,  3.9,  1.4,  1. ],\n",
              "       [ 4.8,  3. ,  1.4,  0.3, -1. ],\n",
              "       [ 6.1,  2.8,  4.7,  1.2,  1. ],\n",
              "       [ 4.8,  3. ,  1.4,  0.1, -1. ],\n",
              "       [ 4.4,  2.9,  1.4,  0.2, -1. ],\n",
              "       [ 5. ,  3.6,  1.4,  0.2, -1. ],\n",
              "       [ 5.7,  2.6,  3.5,  1. ,  1. ],\n",
              "       [ 6.7,  3.1,  4.7,  1.5,  1. ],\n",
              "       [ 5.1,  3.5,  1.4,  0.3, -1. ],\n",
              "       [ 6.7,  3.1,  4.4,  1.4,  1. ],\n",
              "       [ 4.6,  3.2,  1.4,  0.2, -1. ],\n",
              "       [ 7. ,  3.2,  4.7,  1.4,  1. ],\n",
              "       [ 4.8,  3.1,  1.6,  0.2, -1. ],\n",
              "       [ 5.4,  3.9,  1.7,  0.4, -1. ],\n",
              "       [ 4.3,  3. ,  1.1,  0.1, -1. ],\n",
              "       [ 5.4,  3.4,  1.5,  0.4, -1. ],\n",
              "       [ 5.6,  3. ,  4.1,  1.3,  1. ],\n",
              "       [ 4.8,  3.4,  1.6,  0.2, -1. ],\n",
              "       [ 6.6,  2.9,  4.6,  1.3,  1. ],\n",
              "       [ 6. ,  3.4,  4.5,  1.6,  1. ],\n",
              "       [ 5.2,  4.1,  1.5,  0.1, -1. ],\n",
              "       [ 5. ,  3.5,  1.3,  0.3, -1. ],\n",
              "       [ 5.4,  3.9,  1.3,  0.4, -1. ],\n",
              "       [ 5.2,  3.5,  1.5,  0.2, -1. ],\n",
              "       [ 5. ,  3.2,  1.2,  0.2, -1. ],\n",
              "       [ 5.5,  3.5,  1.3,  0.2, -1. ],\n",
              "       [ 5.8,  2.6,  4. ,  1.2,  1. ],\n",
              "       [ 5.5,  2.6,  4.4,  1.2,  1. ],\n",
              "       [ 6. ,  2.9,  4.5,  1.5,  1. ],\n",
              "       [ 6.8,  2.8,  4.8,  1.4,  1. ],\n",
              "       [ 6.2,  2.2,  4.5,  1.5,  1. ],\n",
              "       [ 5.1,  3.8,  1.6,  0.2, -1. ],\n",
              "       [ 5.5,  2.3,  4. ,  1.3,  1. ],\n",
              "       [ 5.9,  3.2,  4.8,  1.8,  1. ],\n",
              "       [ 5.5,  2.4,  3.8,  1.1,  1. ],\n",
              "       [ 5.9,  3. ,  4.2,  1.5,  1. ],\n",
              "       [ 5.7,  3.8,  1.7,  0.3, -1. ],\n",
              "       [ 6.1,  3. ,  4.6,  1.4,  1. ],\n",
              "       [ 4.9,  2.4,  3.3,  1. ,  1. ],\n",
              "       [ 5.7,  3. ,  4.2,  1.2,  1. ],\n",
              "       [ 6.5,  2.8,  4.6,  1.5,  1. ],\n",
              "       [ 5.7,  2.8,  4.5,  1.3,  1. ],\n",
              "       [ 5.2,  3.4,  1.4,  0.2, -1. ],\n",
              "       [ 6.9,  3.1,  4.9,  1.5,  1. ],\n",
              "       [ 5.4,  3. ,  4.5,  1.5,  1. ],\n",
              "       [ 5.5,  2.5,  4. ,  1.3,  1. ],\n",
              "       [ 5. ,  3.3,  1.4,  0.2, -1. ],\n",
              "       [ 6.3,  2.3,  4.4,  1.3,  1. ],\n",
              "       [ 4.9,  3.6,  1.4,  0.1, -1. ],\n",
              "       [ 5.3,  3.7,  1.5,  0.2, -1. ],\n",
              "       [ 5.5,  4.2,  1.4,  0.2, -1. ],\n",
              "       [ 5. ,  3.5,  1.6,  0.6, -1. ],\n",
              "       [ 5. ,  3.4,  1.5,  0.2, -1. ],\n",
              "       [ 6. ,  2.2,  4. ,  1. ,  1. ],\n",
              "       [ 5.7,  2.8,  4.1,  1.3,  1. ],\n",
              "       [ 4.7,  3.2,  1.6,  0.2, -1. ],\n",
              "       [ 5.6,  2.5,  3.9,  1.1,  1. ],\n",
              "       [ 6.4,  3.2,  4.5,  1.5,  1. ],\n",
              "       [ 4.9,  3. ,  1.4,  0.2, -1. ],\n",
              "       [ 5. ,  2. ,  3.5,  1. ,  1. ],\n",
              "       [ 6.1,  2.9,  4.7,  1.4,  1. ],\n",
              "       [ 4.7,  3.2,  1.3,  0.2, -1. ],\n",
              "       [ 5.6,  3. ,  4.5,  1.5,  1. ],\n",
              "       [ 4.6,  3.6,  1. ,  0.2, -1. ],\n",
              "       [ 5.5,  2.4,  3.7,  1. ,  1. ],\n",
              "       [ 5. ,  3.4,  1.6,  0.4, -1. ],\n",
              "       [ 5.8,  4. ,  1.2,  0.2, -1. ],\n",
              "       [ 5.1,  3.4,  1.5,  0.2, -1. ],\n",
              "       [ 5.1,  3.8,  1.9,  0.4, -1. ],\n",
              "       [ 5.4,  3.4,  1.7,  0.2, -1. ],\n",
              "       [ 4.4,  3. ,  1.3,  0.2, -1. ],\n",
              "       [ 5.6,  2.7,  4.2,  1.3,  1. ],\n",
              "       [ 5.4,  3.7,  1.5,  0.2, -1. ],\n",
              "       [ 4.5,  2.3,  1.3,  0.3, -1. ],\n",
              "       [ 6.4,  2.9,  4.3,  1.3,  1. ],\n",
              "       [ 5.1,  3.8,  1.5,  0.3, -1. ],\n",
              "       [ 5.1,  3.7,  1.5,  0.4, -1. ],\n",
              "       [ 5.1,  3.5,  1.4,  0.2, -1. ],\n",
              "       [ 6.3,  2.5,  4.9,  1.5,  1. ],\n",
              "       [ 6.3,  3.3,  4.7,  1.6,  1. ],\n",
              "       [ 4.6,  3.1,  1.5,  0.2, -1. ],\n",
              "       [ 4.8,  3.4,  1.9,  0.2, -1. ]])"
            ]
          },
          "metadata": {},
          "execution_count": 56
        }
      ],
      "source": [
        "### Combines the input X and the target y\n",
        "## shuffle the data\n",
        "dataset=np.c_[X,y]\n",
        "np.random.seed(3)\n",
        "np.random.shuffle(dataset)\n",
        "dataset"
      ]
    },
    {
      "cell_type": "markdown",
      "source": [
        "## Split the data into (X_train, Y_train), (X_test, Y_test):  80% for training and 20% for test"
      ],
      "metadata": {
        "id": "mhbqMNIV3DrM"
      }
    },
    {
      "cell_type": "code",
      "execution_count": 154,
      "metadata": {
        "id": "YTxsELH1a5He"
      },
      "outputs": [],
      "source": [
        "#########\n",
        "p=0.8\n",
        "split=int(len(dataset)*p)\n",
        "X_train=dataset[:split,:-1]\n",
        "Y_train=dataset[:split,-1]\n",
        "X_test=dataset[split:,:-1]\n",
        "Y_test=dataset[split:,-1]\n",
        "###########"
      ]
    },
    {
      "cell_type": "code",
      "execution_count": 155,
      "metadata": {
        "id": "f2SrQK0ra5He",
        "outputId": "c41d1090-ded1-419e-d496-4b45c1823c5e",
        "colab": {
          "base_uri": "https://localhost:8080/"
        }
      },
      "outputs": [
        {
          "output_type": "stream",
          "name": "stdout",
          "text": [
            "(80, 4)\n"
          ]
        }
      ],
      "source": [
        "print(X_train.shape)"
      ]
    },
    {
      "cell_type": "code",
      "execution_count": 156,
      "metadata": {
        "id": "LQdFxmC4a5Hf",
        "outputId": "17a51ed3-e7a0-4e70-fe3e-77ac0767e2fb",
        "colab": {
          "base_uri": "https://localhost:8080/"
        }
      },
      "outputs": [
        {
          "output_type": "stream",
          "name": "stdout",
          "text": [
            "(80,)\n",
            "(80, 4)\n",
            "(20,)\n"
          ]
        }
      ],
      "source": [
        "print(Y_train.shape)\n",
        "print(X_train.shape)\n",
        "print(Y_test.shape)"
      ]
    },
    {
      "cell_type": "markdown",
      "source": [
        "## Implement the class Perceptron\n",
        "\n",
        "$ŷ[i] = Θ^TX[i]$\n",
        "\n",
        "if  $y[i]*np.sign(ŷ[i]) <= 0$:\n",
        "\n",
        "        update Θ: Θ = Θ + y[i]*X[i]\n",
        "else:\n",
        "\n",
        "      Θ = Θ\n",
        "\n",
        "## For prediction: \n",
        "\n",
        "np.sign(X @ Θ)"
      ],
      "metadata": {
        "id": "-S45JTl04rf0"
      }
    },
    {
      "cell_type": "code",
      "execution_count": 162,
      "metadata": {
        "id": "Fi4m35Q6a5Hh"
      },
      "outputs": [],
      "source": [
        "class perceptron:\n",
        "    \n",
        "    #eps = 1e-2\n",
        "    def __init__(self, X, Y,theta,iter_= 100):\n",
        "        self.X = X\n",
        "        self.Y = Y\n",
        "        self.iter_ = iter_\n",
        "        self.theta = theta\n",
        "        \n",
        "        \n",
        "    def train(self):\n",
        "      x=self.X\n",
        "      y_pred=0\n",
        "      for i in range(self.iter_):\n",
        "        for j in range(x.shape[0]):\n",
        "          y_pred=(self.theta.T)@x[j]\n",
        "          if y_pred*np.sign(self.Y[j])<=0:\n",
        "            self.theta=self.theta+self.Y[j]*x[j]\n",
        "          else:\n",
        "            self.theta=self.theta\n",
        "      \n",
        "\n",
        "\n",
        "        #loop over the number of iteration and the number of example\n",
        "\n",
        "        # compute the output of the model and update theta if necessary\n",
        "        \n",
        "    \n",
        "    def predic(self,X):\n",
        "      return np.sign(X@self.theta)\n",
        "    \n",
        "        \n",
        "    \n",
        "    def accuracy(self,X,Y):\n",
        "      return (np.sum(Y_test==perceptron.predic(X_test))/X.shape[0])*100\n",
        "\n",
        "        ## number of correctly predicted examples * 100\n",
        "        \n",
        "            "
      ]
    },
    {
      "cell_type": "code",
      "execution_count": 163,
      "metadata": {
        "id": "wcwMg-Jga5Hi"
      },
      "outputs": [],
      "source": [
        "perceptron = perceptron(X_train,Y_train,np.random.rand(4)*1e-4)"
      ]
    },
    {
      "cell_type": "code",
      "execution_count": 164,
      "metadata": {
        "id": "jZquZaUva5Hj"
      },
      "outputs": [],
      "source": [
        "perceptron.train()"
      ]
    },
    {
      "cell_type": "code",
      "execution_count": 165,
      "metadata": {
        "id": "mrNV3LiUa5Hk",
        "outputId": "20799877-487c-499b-e64b-a36d392f2296",
        "colab": {
          "base_uri": "https://localhost:8080/"
        }
      },
      "outputs": [
        {
          "output_type": "execute_result",
          "data": {
            "text/plain": [
              "array([ 1., -1.,  1., -1., -1., -1., -1., -1., -1.,  1., -1., -1.,  1.,\n",
              "       -1., -1., -1.,  1.,  1., -1., -1.])"
            ]
          },
          "metadata": {},
          "execution_count": 165
        }
      ],
      "source": [
        "perceptron.predic(X_test)"
      ]
    },
    {
      "cell_type": "code",
      "execution_count": 166,
      "metadata": {
        "id": "M_CL5aBBa5Hk",
        "outputId": "6594ba08-b722-41dc-ecbb-1827977e9a6c",
        "colab": {
          "base_uri": "https://localhost:8080/"
        }
      },
      "outputs": [
        {
          "output_type": "execute_result",
          "data": {
            "text/plain": [
              "100.0"
            ]
          },
          "metadata": {},
          "execution_count": 166
        }
      ],
      "source": [
        "perceptron.accuracy(X_test, Y_test)"
      ]
    }
  ],
  "metadata": {
    "kernelspec": {
      "display_name": "Python 3",
      "language": "python",
      "name": "python3"
    },
    "language_info": {
      "codemirror_mode": {
        "name": "ipython",
        "version": 3
      },
      "file_extension": ".py",
      "mimetype": "text/x-python",
      "name": "python",
      "nbconvert_exporter": "python",
      "pygments_lexer": "ipython3",
      "version": "3.8.5"
    },
    "colab": {
      "name": "ANNAN_METIKI_ Perceptron_Tutorial.ipynb",
      "provenance": [],
      "collapsed_sections": [],
      "include_colab_link": true
    }
  },
  "nbformat": 4,
  "nbformat_minor": 0
}